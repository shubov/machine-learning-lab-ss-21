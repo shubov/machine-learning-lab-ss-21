{
 "cells": [
  {
   "cell_type": "markdown",
   "id": "disciplinary-retrieval",
   "metadata": {},
   "source": [
    "# Machine Learning Lab - Hackathon"
   ]
  },
  {
   "cell_type": "markdown",
   "id": "digital-remark",
   "metadata": {},
   "source": [
    "**Summer Term 2021**\n",
    "\n",
    "- Julian Stier <julian.stier@uni-passau.de>\n",
    "- Sahib Julka <sahib.julka@uni-passau.de>\n",
    "- [StudIP Machine Learning Lab](https://studip.uni-passau.de/studip/dispatch.php/course/scm?cid=42befdd6822ee2029b26fa475cd02f60)\n",
    "- [FimGIT repositories](https://fimgit.fim.uni-passau.de/groups/padas/21ss-mllab/)\n",
    "\n",
    "**General Remarks**\n",
    "- You have time from 09:00 AM until 03:00 PM to work on the hackathon task.\n",
    "- Go through the notebook, answer questions, solve described tasks and fill out empty spaces or add cells based on your creativity.\n",
    "- Re-use previous implementations (of your own!) by either importing according python modules or copying it into the notebook.\n",
    "- Your overall git repository acts as the official submission. Put the hackathon notebook also into the git repository, alongside with any previous notebooks or python implementations you already uploaded.\n",
    "- If one of your implementation required for this notebook has not been working previously, you can now work on that specifically and try to solve it within the given time frame."
   ]
  },
  {
   "cell_type": "code",
   "execution_count": 1,
   "id": "analyzed-memorial",
   "metadata": {},
   "outputs": [],
   "source": [
    "import numpy as np\n",
    "import pandas as pd\n",
    "import matplotlib.pyplot as plt\n",
    "import seaborn as sns\n",
    "\n",
    "from shubov_algorithms import metrics,helpers, naive_bayes, linear_regression, logistic_regression, support_vector_machine, neural_network, k_means, decision_trees"
   ]
  },
  {
   "cell_type": "markdown",
   "id": "variable-merchandise",
   "metadata": {},
   "source": [
    "# Step I: Prepare Your Data"
   ]
  },
  {
   "cell_type": "markdown",
   "id": "certain-knife",
   "metadata": {},
   "source": [
    "- Download the two datasets.\n",
    "- Read it into memory.\n",
    "- Understand the feature shape and number of targets.\n",
    "- Split both datasets into three fixed train-validation-test sets with own chosen proportions. You can e.g. use 80% of the data for training, 10% of the data for the validation set and 10% for the test set. Make sure you shuffle the data in before once."
   ]
  },
  {
   "cell_type": "markdown",
   "id": "legendary-sherman",
   "metadata": {},
   "source": [
    "### UCI Dataset: Abalone\n",
    "> https://archive.ics.uci.edu/ml/machine-learning-databases/abalone/"
   ]
  },
  {
   "cell_type": "code",
   "execution_count": 2,
   "id": "canadian-underwear",
   "metadata": {},
   "outputs": [
    {
     "name": "stdout",
     "output_type": "stream",
     "text": [
      "mkdir: abalone: File exists\r\n",
      "  % Total    % Received % Xferd  Average Speed   Time    Time     Time  Current\r\n",
      "                                 Dload  Upload   Total   Spent    Left  Speed\r\n",
      "100  187k  100  187k    0     0   167k      0  0:00:01  0:00:01 --:--:--  167k\r\n",
      "  % Total    % Received % Xferd  Average Speed   Time    Time     Time  Current\r\n",
      "                                 Dload  Upload   Total   Spent    Left  Speed\r\n",
      "100  4319  100  4319    0     0   6769      0 --:--:-- --:--:-- --:--:--  6758:--     0\r\n",
      "1. Title of Database: Abalone data\r\n",
      "\r\n",
      "2. Sources:\r\n",
      "\r\n",
      "   (a) Original owners of database:\r\n",
      "\tMarine Resources Division\r\n",
      "\tMarine Research Laboratories - Taroona\r\n",
      "\tDepartment of Primary Industry and Fisheries, Tasmania\r\n",
      "\tGPO Box 619F, Hobart, Tasmania 7001, Australia\r\n",
      "\t(contact: Warwick Nash +61 02 277277, wnash@dpi.tas.gov.au)\r\n",
      "\r\n",
      "   (b) Donor of database:\r\n",
      "\tSam Waugh (Sam.Waugh@cs.utas.edu.au)\r\n",
      "\tDepartment of Computer Science, University of Tasmania\r\n",
      "\tGPO Box 252C, Hobart, Tasmania 7001, Australia\r\n",
      "\r\n",
      "   (c) Date received: December 1995\r\n",
      "\r\n",
      "\r\n",
      "3. Past Usage:\r\n",
      "\r\n",
      "   Sam Waugh (1995) \"Extending and benchmarking Cascade-Correlation\", PhD\r\n",
      "   thesis, Computer Science Department, University of Tasmania.\r\n",
      "\r\n",
      "   -- Test set performance (final 1044 examples, first 3133 used for training):\r\n",
      "\t24.86% Cascade-Correlation (no hidden nodes)\r\n",
      "\t26.25% Cascade-Correlation (5 hidden nodes)\r\n",
      "\t21.5%  C4.5\r\n",
      "\t 0.0%  Linear Discriminate Analysis\r\n",
      "\t 3.57% k=5 Nearest Neighbour\r\n",
      "      (Problem encoded as a classification task)\r\n",
      "\r\n",
      "   -- Data set samples are highly overlapped.  Further information is required\r\n",
      "\tto separate completely using affine combinations.  Other restrictions\r\n",
      "\tto data set examined.\r\n",
      "\r\n",
      "   David Clark, Zoltan Schreter, Anthony Adams \"A Quantitative Comparison of\r\n",
      "   Dystal and Backpropagation\", submitted to the Australian Conference on\r\n",
      "   Neural Networks (ACNN'96). Data set treated as a 3-category classification\r\n",
      "   problem (grouping ring classes 1-8, 9 and 10, and 11 on).\r\n",
      "\r\n",
      "   -- Test set performance (3133 training, 1044 testing as above):\r\n",
      "\t64%    Backprop\r\n",
      "\t55%    Dystal\r\n",
      "   -- Previous work (Waugh, 1995) on same data set:\r\n",
      "\t61.40% Cascade-Correlation (no hidden nodes)\r\n",
      "\t65.61% Cascade-Correlation (5 hidden nodes)\r\n",
      "\t59.2%  C4.5\r\n",
      "\t32.57% Linear Discriminate Analysis\r\n",
      "\t62.46% k=5 Nearest Neighbour\r\n",
      "\r\n",
      "\r\n",
      "4. Relevant Information Paragraph:\r\n",
      "\r\n",
      "   Predicting the age of abalone from physical measurements.  The age of\r\n",
      "   abalone is determined by cutting the shell through the cone, staining it,\r\n",
      "   and counting the number of rings through a microscope -- a boring and\r\n",
      "   time-consuming task.  Other measurements, which are easier to obtain, are\r\n",
      "   used to predict the age.  Further information, such as weather patterns\r\n",
      "   and location (hence food availability) may be required to solve the problem.\r\n",
      "\r\n",
      "   From the original data examples with missing values were removed (the\r\n",
      "   majority having the predicted value missing), and the ranges of the\r\n",
      "   continuous values have been scaled for use with an ANN (by dividing by 200).\r\n",
      "\r\n",
      "   Data comes from an original (non-machine-learning) study:\r\n",
      "\r\n",
      "\tWarwick J Nash, Tracy L Sellers, Simon R Talbot, Andrew J Cawthorn and\r\n",
      "\tWes B Ford (1994) \"The Population Biology of Abalone (_Haliotis_\r\n",
      "\tspecies) in Tasmania. I. Blacklip Abalone (_H. rubra_) from the North\r\n",
      "\tCoast and Islands of Bass Strait\", Sea Fisheries Division, Technical\r\n",
      "\tReport No. 48 (ISSN 1034-3288)\r\n",
      "\r\n",
      "\r\n",
      "5. Number of Instances: 4177\r\n",
      "\r\n",
      "\r\n",
      "6. Number of Attributes: 8\r\n",
      "\r\n",
      "\r\n",
      "7. Attribute information:\r\n",
      "\r\n",
      "   Given is the attribute name, attribute type, the measurement unit and a\r\n",
      "   brief description.  The number of rings is the value to predict: either\r\n",
      "   as a continuous value or as a classification problem.\r\n",
      "\r\n",
      "\tName\t\tData Type\tMeas.\tDescription\r\n",
      "\t----\t\t---------\t-----\t-----------\r\n",
      "\tSex\t\tnominal\t\t\tM, F, and I (infant)\r\n",
      "\tLength\t\tcontinuous\tmm\tLongest shell measurement\r\n",
      "\tDiameter\tcontinuous\tmm\tperpendicular to length\r\n",
      "\tHeight\t\tcontinuous\tmm\twith meat in shell\r\n",
      "\tWhole weight\tcontinuous\tgrams\twhole abalone\r\n",
      "\tShucked weight\tcontinuous\tgrams\tweight of meat\r\n",
      "\tViscera weight\tcontinuous\tgrams\tgut weight (after bleeding)\r\n",
      "\tShell weight\tcontinuous\tgrams\tafter being dried\r\n",
      "\tRings\t\tinteger\t\t\t+1.5 gives the age in years\r\n",
      "\r\n",
      "   Statistics for numeric domains:\r\n",
      "\r\n",
      "\t\tLength\tDiam\tHeight\tWhole\tShucked\tViscera\tShell\tRings\r\n",
      "\tMin\t0.075\t0.055\t0.000\t0.002\t0.001\t0.001\t0.002\t    1\r\n",
      "\tMax\t0.815\t0.650\t1.130\t2.826\t1.488\t0.760\t1.005\t   29\r\n",
      "\tMean\t0.524\t0.408\t0.140\t0.829\t0.359\t0.181\t0.239\t9.934\r\n",
      "\tSD\t0.120\t0.099\t0.042\t0.490\t0.222\t0.110\t0.139\t3.224\r\n",
      "\tCorrel\t0.557\t0.575\t0.557\t0.540\t0.421\t0.504\t0.628\t  1.0\r\n",
      "\r\n",
      "\r\n",
      "8. Missing Attribute Values: None\r\n",
      "\r\n",
      "\r\n",
      "9. Class Distribution:\r\n",
      "\r\n",
      "\tClass\tExamples\r\n",
      "\t-----\t--------\r\n",
      "\t1\t1\r\n",
      "\t2\t1\r\n",
      "\t3\t15\r\n",
      "\t4\t57\r\n",
      "\t5\t115\r\n",
      "\t6\t259\r\n",
      "\t7\t391\r\n",
      "\t8\t568\r\n",
      "\t9\t689\r\n",
      "\t10\t634\r\n",
      "\t11\t487\r\n",
      "\t12\t267\r\n",
      "\t13\t203\r\n",
      "\t14\t126\r\n",
      "\t15\t103\r\n",
      "\t16\t67\r\n",
      "\t17\t58\r\n",
      "\t18\t42\r\n",
      "\t19\t32\r\n",
      "\t20\t26\r\n",
      "\t21\t14\r\n",
      "\t22\t6\r\n",
      "\t23\t9\r\n",
      "\t24\t2\r\n",
      "\t25\t1\r\n",
      "\t26\t1\r\n",
      "\t27\t2\r\n",
      "\t29\t1\r\n",
      "\t-----\t----\r\n",
      "\tTotal\t4177\r\n"
     ]
    }
   ],
   "source": [
    "!mkdir abalone\n",
    "!curl -o ./abalone/abalone.data \"https://archive.ics.uci.edu/ml/machine-learning-databases/abalone/abalone.data\"\n",
    "!curl -o ./abalone/abalone.names \"https://archive.ics.uci.edu/ml/machine-learning-databases/abalone/abalone.names\"\n",
    "!cat ./abalone/abalone.names"
   ]
  },
  {
   "cell_type": "code",
   "execution_count": 3,
   "id": "express-stanford",
   "metadata": {},
   "outputs": [
    {
     "data": {
      "text/plain": "  Sex  Length  Diameter  Height  Whole weight  Shucked weight  Viscera weight  \\\n0   M   0.455     0.365   0.095        0.5140          0.2245          0.1010   \n1   M   0.350     0.265   0.090        0.2255          0.0995          0.0485   \n2   F   0.530     0.420   0.135        0.6770          0.2565          0.1415   \n3   M   0.440     0.365   0.125        0.5160          0.2155          0.1140   \n4   I   0.330     0.255   0.080        0.2050          0.0895          0.0395   \n\n   Shell weight  Rings  \n0         0.150     15  \n1         0.070      7  \n2         0.210      9  \n3         0.155     10  \n4         0.055      7  ",
      "text/html": "<div>\n<style scoped>\n    .dataframe tbody tr th:only-of-type {\n        vertical-align: middle;\n    }\n\n    .dataframe tbody tr th {\n        vertical-align: top;\n    }\n\n    .dataframe thead th {\n        text-align: right;\n    }\n</style>\n<table border=\"1\" class=\"dataframe\">\n  <thead>\n    <tr style=\"text-align: right;\">\n      <th></th>\n      <th>Sex</th>\n      <th>Length</th>\n      <th>Diameter</th>\n      <th>Height</th>\n      <th>Whole weight</th>\n      <th>Shucked weight</th>\n      <th>Viscera weight</th>\n      <th>Shell weight</th>\n      <th>Rings</th>\n    </tr>\n  </thead>\n  <tbody>\n    <tr>\n      <th>0</th>\n      <td>M</td>\n      <td>0.455</td>\n      <td>0.365</td>\n      <td>0.095</td>\n      <td>0.5140</td>\n      <td>0.2245</td>\n      <td>0.1010</td>\n      <td>0.150</td>\n      <td>15</td>\n    </tr>\n    <tr>\n      <th>1</th>\n      <td>M</td>\n      <td>0.350</td>\n      <td>0.265</td>\n      <td>0.090</td>\n      <td>0.2255</td>\n      <td>0.0995</td>\n      <td>0.0485</td>\n      <td>0.070</td>\n      <td>7</td>\n    </tr>\n    <tr>\n      <th>2</th>\n      <td>F</td>\n      <td>0.530</td>\n      <td>0.420</td>\n      <td>0.135</td>\n      <td>0.6770</td>\n      <td>0.2565</td>\n      <td>0.1415</td>\n      <td>0.210</td>\n      <td>9</td>\n    </tr>\n    <tr>\n      <th>3</th>\n      <td>M</td>\n      <td>0.440</td>\n      <td>0.365</td>\n      <td>0.125</td>\n      <td>0.5160</td>\n      <td>0.2155</td>\n      <td>0.1140</td>\n      <td>0.155</td>\n      <td>10</td>\n    </tr>\n    <tr>\n      <th>4</th>\n      <td>I</td>\n      <td>0.330</td>\n      <td>0.255</td>\n      <td>0.080</td>\n      <td>0.2050</td>\n      <td>0.0895</td>\n      <td>0.0395</td>\n      <td>0.055</td>\n      <td>7</td>\n    </tr>\n  </tbody>\n</table>\n</div>"
     },
     "execution_count": 3,
     "metadata": {},
     "output_type": "execute_result"
    }
   ],
   "source": [
    "col_names = [\"Sex\", \"Length\", \"Diameter\", \"Height\", \"Whole weight\", \"Shucked weight\", \"Viscera weight\", \"Shell weight\", \"Rings\"]\n",
    "uci_df = pd.read_csv(\"./abalone/abalone.data\", header=None, names=col_names)\n",
    "uci_df.head()"
   ]
  },
  {
   "cell_type": "code",
   "execution_count": 4,
   "id": "published-immigration",
   "metadata": {},
   "outputs": [
    {
     "data": {
      "text/plain": "            Length     Diameter       Height  Whole weight  Shucked weight  \\\ncount  4177.000000  4177.000000  4177.000000   4177.000000     4177.000000   \nmean      0.523992     0.407881     0.139516      0.828742        0.359367   \nstd       0.120093     0.099240     0.041827      0.490389        0.221963   \nmin       0.075000     0.055000     0.000000      0.002000        0.001000   \n25%       0.450000     0.350000     0.115000      0.441500        0.186000   \n50%       0.545000     0.425000     0.140000      0.799500        0.336000   \n75%       0.615000     0.480000     0.165000      1.153000        0.502000   \nmax       0.815000     0.650000     1.130000      2.825500        1.488000   \n\n       Viscera weight  Shell weight        Rings  \ncount     4177.000000   4177.000000  4177.000000  \nmean         0.180594      0.238831     9.933684  \nstd          0.109614      0.139203     3.224169  \nmin          0.000500      0.001500     1.000000  \n25%          0.093500      0.130000     8.000000  \n50%          0.171000      0.234000     9.000000  \n75%          0.253000      0.329000    11.000000  \nmax          0.760000      1.005000    29.000000  ",
      "text/html": "<div>\n<style scoped>\n    .dataframe tbody tr th:only-of-type {\n        vertical-align: middle;\n    }\n\n    .dataframe tbody tr th {\n        vertical-align: top;\n    }\n\n    .dataframe thead th {\n        text-align: right;\n    }\n</style>\n<table border=\"1\" class=\"dataframe\">\n  <thead>\n    <tr style=\"text-align: right;\">\n      <th></th>\n      <th>Length</th>\n      <th>Diameter</th>\n      <th>Height</th>\n      <th>Whole weight</th>\n      <th>Shucked weight</th>\n      <th>Viscera weight</th>\n      <th>Shell weight</th>\n      <th>Rings</th>\n    </tr>\n  </thead>\n  <tbody>\n    <tr>\n      <th>count</th>\n      <td>4177.000000</td>\n      <td>4177.000000</td>\n      <td>4177.000000</td>\n      <td>4177.000000</td>\n      <td>4177.000000</td>\n      <td>4177.000000</td>\n      <td>4177.000000</td>\n      <td>4177.000000</td>\n    </tr>\n    <tr>\n      <th>mean</th>\n      <td>0.523992</td>\n      <td>0.407881</td>\n      <td>0.139516</td>\n      <td>0.828742</td>\n      <td>0.359367</td>\n      <td>0.180594</td>\n      <td>0.238831</td>\n      <td>9.933684</td>\n    </tr>\n    <tr>\n      <th>std</th>\n      <td>0.120093</td>\n      <td>0.099240</td>\n      <td>0.041827</td>\n      <td>0.490389</td>\n      <td>0.221963</td>\n      <td>0.109614</td>\n      <td>0.139203</td>\n      <td>3.224169</td>\n    </tr>\n    <tr>\n      <th>min</th>\n      <td>0.075000</td>\n      <td>0.055000</td>\n      <td>0.000000</td>\n      <td>0.002000</td>\n      <td>0.001000</td>\n      <td>0.000500</td>\n      <td>0.001500</td>\n      <td>1.000000</td>\n    </tr>\n    <tr>\n      <th>25%</th>\n      <td>0.450000</td>\n      <td>0.350000</td>\n      <td>0.115000</td>\n      <td>0.441500</td>\n      <td>0.186000</td>\n      <td>0.093500</td>\n      <td>0.130000</td>\n      <td>8.000000</td>\n    </tr>\n    <tr>\n      <th>50%</th>\n      <td>0.545000</td>\n      <td>0.425000</td>\n      <td>0.140000</td>\n      <td>0.799500</td>\n      <td>0.336000</td>\n      <td>0.171000</td>\n      <td>0.234000</td>\n      <td>9.000000</td>\n    </tr>\n    <tr>\n      <th>75%</th>\n      <td>0.615000</td>\n      <td>0.480000</td>\n      <td>0.165000</td>\n      <td>1.153000</td>\n      <td>0.502000</td>\n      <td>0.253000</td>\n      <td>0.329000</td>\n      <td>11.000000</td>\n    </tr>\n    <tr>\n      <th>max</th>\n      <td>0.815000</td>\n      <td>0.650000</td>\n      <td>1.130000</td>\n      <td>2.825500</td>\n      <td>1.488000</td>\n      <td>0.760000</td>\n      <td>1.005000</td>\n      <td>29.000000</td>\n    </tr>\n  </tbody>\n</table>\n</div>"
     },
     "execution_count": 4,
     "metadata": {},
     "output_type": "execute_result"
    }
   ],
   "source": [
    "uci_df.describe()"
   ]
  },
  {
   "cell_type": "markdown",
   "source": [
    "##### transform to numpy array"
   ],
   "metadata": {
    "collapsed": false
   }
  },
  {
   "cell_type": "code",
   "execution_count": 5,
   "outputs": [],
   "source": [
    "uci_numpy_data = uci_df.to_numpy()"
   ],
   "metadata": {
    "collapsed": false,
    "pycharm": {
     "name": "#%%\n"
    }
   }
  },
  {
   "cell_type": "markdown",
   "source": [
    "##### shuffle the dataset"
   ],
   "metadata": {
    "collapsed": false,
    "pycharm": {
     "name": "#%% md\n"
    }
   }
  },
  {
   "cell_type": "code",
   "execution_count": 6,
   "outputs": [],
   "source": [
    "np.random.shuffle(uci_numpy_data)"
   ],
   "metadata": {
    "collapsed": false,
    "pycharm": {
     "name": "#%%\n"
    }
   }
  },
  {
   "cell_type": "markdown",
   "source": [
    "##### split the dataset into features and labels arrays"
   ],
   "metadata": {
    "collapsed": false
   }
  },
  {
   "cell_type": "code",
   "execution_count": 7,
   "outputs": [],
   "source": [
    "uci_features, uci_labels = uci_numpy_data[:, :8], uci_numpy_data[:, 8]"
   ],
   "metadata": {
    "collapsed": false,
    "pycharm": {
     "name": "#%%\n"
    }
   }
  },
  {
   "cell_type": "markdown",
   "source": [
    "##### transform labels"
   ],
   "metadata": {
    "collapsed": false
   }
  },
  {
   "cell_type": "code",
   "execution_count": 8,
   "outputs": [
    {
     "name": "stdout",
     "output_type": "stream",
     "text": [
      "28 [ 0  1  2  3  4  5  6  7  8  9 10 11 12 13 14 15 16 17 18 19 20 21 22 23\n",
      " 24 25 26 27] (4177,)\n"
     ]
    }
   ],
   "source": [
    "uci_labels = helpers.transform_targets_to_numbers(uci_labels)\n",
    "uci_number_of_unique_labels = len(np.unique(uci_labels))\n",
    "print(len(np.unique(uci_labels)), np.unique(uci_labels), np.shape(uci_labels))"
   ],
   "metadata": {
    "collapsed": false,
    "pycharm": {
     "name": "#%%\n"
    }
   }
  },
  {
   "cell_type": "markdown",
   "source": [
    "##### convert numerical features to binary"
   ],
   "metadata": {
    "collapsed": false,
    "pycharm": {
     "name": "#%% md\n"
    }
   }
  },
  {
   "cell_type": "code",
   "execution_count": 9,
   "outputs": [
    {
     "data": {
      "text/plain": "(4177, 28)"
     },
     "execution_count": 9,
     "metadata": {},
     "output_type": "execute_result"
    }
   ],
   "source": [
    "# cut all the numerical features\n",
    "uci_numerical_features = uci_features[:,1:]\n",
    "uci_binary_features = helpers.to_binary_features(uci_numerical_features, num_bins=4)\n",
    "np.shape(uci_binary_features)"
   ],
   "metadata": {
    "collapsed": false,
    "pycharm": {
     "name": "#%%\n"
    }
   }
  },
  {
   "cell_type": "markdown",
   "source": [
    "##### convert Sex feature to number values"
   ],
   "metadata": {
    "collapsed": false
   }
  },
  {
   "cell_type": "code",
   "execution_count": 10,
   "outputs": [
    {
     "name": "stdout",
     "output_type": "stream",
     "text": [
      "[[0. 0. 1.]\n",
      " [1. 0. 0.]\n",
      " [0. 1. 0.]\n",
      " ...\n",
      " [0. 1. 0.]\n",
      " [0. 0. 1.]\n",
      " [0. 0. 1.]]\n"
     ]
    },
    {
     "data": {
      "text/plain": "(4177, 3)"
     },
     "execution_count": 10,
     "metadata": {},
     "output_type": "execute_result"
    }
   ],
   "source": [
    "uci_feature_sex = uci_features[:,0]\n",
    "\n",
    "# label_names = np.unique(uci_feature_sex)\n",
    "# labels2index = {name: ix for name, ix in zip(label_names, range(len(label_names)))}\n",
    "# uci_feature_sex_numerical = np.array([labels2index[name] for name in uci_feature_sex])\n",
    "\n",
    "uci_feature_sex_binary = helpers.transform_to_binary(uci_feature_sex)\n",
    "np.shape(uci_feature_sex_binary)"
   ],
   "metadata": {
    "collapsed": false,
    "pycharm": {
     "name": "#%%\n"
    }
   }
  },
  {
   "cell_type": "markdown",
   "source": [
    "##### Combine transformed features"
   ],
   "metadata": {
    "collapsed": false
   }
  },
  {
   "cell_type": "code",
   "execution_count": 11,
   "outputs": [
    {
     "data": {
      "text/plain": "(4177, 31)"
     },
     "execution_count": 11,
     "metadata": {},
     "output_type": "execute_result"
    }
   ],
   "source": [
    "#uci_features_for_classification = np.append([[x] for x in uci_feature_sex_numerical], uci_binary_features, axis=1)\n",
    "uci_features_for_classification = np.concatenate((uci_feature_sex_binary,uci_binary_features), axis=1)\n",
    "np.shape(uci_features_for_classification)"
   ],
   "metadata": {
    "collapsed": false,
    "pycharm": {
     "name": "#%%\n"
    }
   }
  },
  {
   "cell_type": "markdown",
   "source": [
    "##### split the dataset into train, validation and test datasets"
   ],
   "metadata": {
    "collapsed": false
   }
  },
  {
   "cell_type": "code",
   "execution_count": 12,
   "outputs": [],
   "source": [
    "uci_features_train, uci_features_valid, uci_features_test = helpers.split_data3(uci_features_for_classification)\n",
    "uci_labels_train, uci_labels_valid, uci_labels_test = helpers.split_data3(uci_labels)"
   ],
   "metadata": {
    "collapsed": false,
    "pycharm": {
     "name": "#%%\n"
    }
   }
  },
  {
   "cell_type": "markdown",
   "source": [
    "#### The same things, but as a function"
   ],
   "metadata": {
    "collapsed": false,
    "pycharm": {
     "name": "#%% md\n"
    }
   }
  },
  {
   "cell_type": "code",
   "execution_count": 13,
   "outputs": [],
   "source": [
    "def data_preprocessing_abalone(uci_numpy_data, num_bins=4):\n",
    "    uci_features, uci_labels = uci_numpy_data[:, :8], uci_numpy_data[:, 8]\n",
    "    uci_labels = helpers.transform_targets_to_numbers(uci_labels)\n",
    "    uci_numerical_features = uci_features[:,1:]\n",
    "    uci_binary_features = helpers.to_binary_features(uci_numerical_features, num_bins=num_bins)\n",
    "    uci_feature_sex = uci_features[:,0]\n",
    "    label_names = np.unique(uci_feature_sex)\n",
    "    labels2index = {name: ix for name, ix in zip(label_names, range(len(label_names)))}\n",
    "    uci_feature_sex_numerical = np.array([labels2index[name] for name in uci_feature_sex])\n",
    "    uci_features_for_classification = np.append([[x] for x in uci_feature_sex_numerical], uci_binary_features, axis=1)\n",
    "    uci_features_train, uci_features_valid, uci_features_test = helpers.split_data3(uci_features_for_classification)\n",
    "    uci_labels_train, uci_labels_valid, uci_labels_test = helpers.split_data3(uci_labels)\n",
    "\n",
    "    return uci_features_train, uci_features_valid, uci_features_test, uci_labels_train, uci_labels_valid, uci_labels_test"
   ],
   "metadata": {
    "collapsed": false,
    "pycharm": {
     "name": "#%%\n"
    }
   }
  },
  {
   "cell_type": "markdown",
   "source": [
    "### Fashion-MNIST"
   ],
   "metadata": {
    "collapsed": false
   }
  },
  {
   "cell_type": "markdown",
   "source": [
    "##### Functions to read byte files"
   ],
   "metadata": {
    "collapsed": false
   }
  },
  {
   "cell_type": "code",
   "execution_count": 14,
   "outputs": [],
   "source": [
    "# Source of inspiration:\n",
    "# https://stackoverflow.com/questions/40427435/extract-images-from-idx3-ubyte-file-or-gzip-via-python\n",
    "# the number of images found experimentally\n",
    "def read_byte_images(file_path, num_images=60000):\n",
    "    f = open(file_path, \"rb\")\n",
    "    image_size = 28\n",
    "    f.read(16)\n",
    "    buf = f.read(image_size * image_size * num_images)\n",
    "    data = np.frombuffer(buf, dtype=np.uint8).astype(np.float32)\n",
    "    return data.reshape(num_images, image_size, image_size, 1)\n",
    "\n",
    "def read_byte_labels(file_path, num_images=60000):\n",
    "    f = open(file_path, \"rb\")\n",
    "    f.read(8)\n",
    "    labels = []\n",
    "    for i in range(0,num_images):\n",
    "        buf = f.read(1)\n",
    "        label = np.frombuffer(buf, dtype=np.uint8).astype(np.int64)\n",
    "        labels.append(label[0])\n",
    "    return labels"
   ],
   "metadata": {
    "collapsed": false,
    "pycharm": {
     "name": "#%%\n"
    }
   }
  },
  {
   "cell_type": "markdown",
   "source": [
    "##### Get Images"
   ],
   "metadata": {
    "collapsed": false
   }
  },
  {
   "cell_type": "code",
   "execution_count": 15,
   "outputs": [
    {
     "data": {
      "text/plain": "(60000, 28, 28, 1)"
     },
     "execution_count": 15,
     "metadata": {},
     "output_type": "execute_result"
    }
   ],
   "source": [
    "fmnist_images = read_byte_images(\"fashion_mnist/train-images-idx3-ubyte\")\n",
    "np.shape(fmnist_images)"
   ],
   "metadata": {
    "collapsed": false,
    "pycharm": {
     "name": "#%%\n"
    }
   }
  },
  {
   "cell_type": "markdown",
   "source": [
    "##### Display an image"
   ],
   "metadata": {
    "collapsed": false
   }
  },
  {
   "cell_type": "code",
   "execution_count": 16,
   "outputs": [
    {
     "data": {
      "text/plain": "<Figure size 432x288 with 1 Axes>",
      "image/png": "[encoded data removed]"
     },
     "metadata": {
      "needs_background": "light"
     },
     "output_type": "display_data"
    }
   ],
   "source": [
    "image = np.asarray(fmnist_images[0]).squeeze()\n",
    "plt.imshow(image)\n",
    "plt.show()"
   ],
   "metadata": {
    "collapsed": false,
    "pycharm": {
     "name": "#%%\n"
    }
   }
  },
  {
   "cell_type": "markdown",
   "source": [
    "##### Get labels"
   ],
   "metadata": {
    "collapsed": false
   }
  },
  {
   "cell_type": "code",
   "execution_count": 17,
   "outputs": [
    {
     "data": {
      "text/plain": "(60000,)"
     },
     "execution_count": 17,
     "metadata": {},
     "output_type": "execute_result"
    }
   ],
   "source": [
    "fmnist_labels = read_byte_labels(\"fashion_mnist/train-labels-idx1-ubyte\", 60000)\n",
    "np.shape(fmnist_labels)"
   ],
   "metadata": {
    "collapsed": false,
    "pycharm": {
     "name": "#%%\n"
    }
   }
  },
  {
   "cell_type": "markdown",
   "source": [
    "##### split the dataset into train, validation and test datasets"
   ],
   "metadata": {
    "collapsed": false,
    "pycharm": {
     "name": "#%% md\n"
    }
   }
  },
  {
   "cell_type": "code",
   "execution_count": 18,
   "outputs": [],
   "source": [
    "fmnist_features_train, fmnist_features_valid, fmnist_features_test = helpers.split_data3(fmnist_images)\n",
    "fmnist_labels_train, fmnist_labels_valid, fmnist_labels_test = helpers.split_data3(fmnist_labels)"
   ],
   "metadata": {
    "collapsed": false,
    "pycharm": {
     "name": "#%%\n"
    }
   }
  },
  {
   "cell_type": "markdown",
   "id": "integral-accent",
   "metadata": {},
   "source": [
    "# Step II: Choose a Baseline Classifier"
   ]
  },
  {
   "cell_type": "markdown",
   "id": "transsexual-cemetery",
   "metadata": {},
   "source": [
    "* Choose a baseline classifier - except the neural network classifier - you have been working with over the semester and let it learn based on the **small** dataset\n",
    "* Provide some error measure or indicator whether your classifier learned, e.g. loss over multiple steps or the number of correctly classified samples on the training set or similar"
   ]
  },
  {
   "cell_type": "code",
   "execution_count": 14,
   "outputs": [],
   "source": [
    "model_naive_bayes = naive_bayes.NaiveBayesClassifier(len(np.unique(uci_labels_train)))\n",
    "model_naive_bayes.learn(uci_features_train.astype(int), uci_labels_train.astype(int))"
   ],
   "metadata": {
    "collapsed": false,
    "pycharm": {
     "name": "#%%\n"
    }
   }
  },
  {
   "cell_type": "markdown",
   "id": "revised-synthesis",
   "metadata": {},
   "source": [
    "# Step III: Provide Evaluation Metrics for the Classifier Interface"
   ]
  },
  {
   "cell_type": "markdown",
   "id": "perfect-marketing",
   "metadata": {},
   "source": [
    "* Given the class interface for machine learning models, use the predicted target from the result of an model.infer()-invocation to calculate precision, recall and f1-score given the actual test-set targets.\n",
    "* Do not use scikit-learn or similar libraries; but you can orientate on such interfaces or implementations.\n",
    "* Note, that a model can return two or multiple classes based on the problem it learned."
   ]
  },
  {
   "cell_type": "code",
   "id": "endangered-drinking",
   "metadata": {
    "pycharm": {
     "name": "#%%\n"
    }
   },
   "source": [
    "uci_predicted = model_naive_bayes.infer(uci_features_test)\n",
    "metrics.print_avg_metrics(uci_labels_test, uci_predicted)"
   ],
   "execution_count": 15,
   "outputs": [
    {
     "name": "stdout",
     "output_type": "stream",
     "text": [
      "Accuracy: 25.598086124401913\n",
      "Recall: 0.16028708133971292\n",
      "Precision: 10.966473789765063\n",
      "F1 Score: 0.3052476572836251\n"
     ]
    }
   ]
  },
  {
   "cell_type": "markdown",
   "id": "wanted-budget",
   "metadata": {},
   "source": [
    "> https://en.wikipedia.org/wiki/Precision_and_recall\n",
    "\n",
    "$precision = \\frac{\\text{true positives}}{\\text{true positives} + \\text{false positives}}$\n",
    "\n",
    "$recall = \\frac{\\text{true positives}}{\\text{true positives} + \\text{false negatives}}$"
   ]
  },
  {
   "cell_type": "markdown",
   "id": "enormous-vacuum",
   "metadata": {},
   "source": [
    "### Testing your implementation\n",
    "You can use below vectors as a reference for testing the output of infer() and the target vector of a 10-class-classifier. The *f1_score* method of scikit learn gives you a reference on how the values need to look like. Using the function is of course not a valid solution."
   ]
  },
  {
   "cell_type": "code",
   "execution_count": 16,
   "id": "manufactured-cyprus",
   "metadata": {},
   "outputs": [],
   "source": [
    "example_baseline_predicted = np.array([9, 8, 7, 6, 5, 4, 3, 2, 1, 0, 1, 1, 2, 2, 3, 3, 4, 0, 1, 2, 3, 4, 5, 6, 7, 8, 9, 0, 5, 6, 7, 8, 9])\n",
    "example_baseline_test_target = np.array([0, 1, 2, 3, 4, 5, 6, 7, 8, 9, 1, 1, 3, 3, 3, 3, 4, 0, 1, 2, 3, 4, 5, 6, 7, 8, 9, 0, 4, 4, 5, 8, 8])"
   ]
  },
  {
   "cell_type": "code",
   "execution_count": 17,
   "id": "vital-storage",
   "metadata": {},
   "outputs": [
    {
     "data": {
      "text/plain": "0.9378972726341148"
     },
     "execution_count": 17,
     "metadata": {},
     "output_type": "execute_result"
    }
   ],
   "source": [
    "np.mean(metrics.compute_f1_score(example_baseline_test_target, example_baseline_predicted))"
   ]
  },
  {
   "cell_type": "code",
   "execution_count": 18,
   "outputs": [
    {
     "data": {
      "text/plain": "0.3052476572836251"
     },
     "execution_count": 18,
     "metadata": {},
     "output_type": "execute_result"
    }
   ],
   "source": [
    "np.mean(metrics.compute_f1_score(uci_labels_test,uci_predicted))"
   ],
   "metadata": {
    "collapsed": false,
    "pycharm": {
     "name": "#%%\n"
    }
   }
  },
  {
   "cell_type": "markdown",
   "id": "fleet-municipality",
   "metadata": {},
   "source": [
    "# Step IV: Experiment (1) Hyperparameter Choice of Baseline Classifier"
   ]
  },
  {
   "cell_type": "markdown",
   "id": "compressed-ordering",
   "metadata": {},
   "source": [
    "* Use one fixed train-validation-test split.\n",
    "* Choose a hyperparameter of your baseline classifier.\n",
    "* Conduct a grid search to find the best suitable value for it. Let the classifier learn on the training set and use an evaluation metric on the validation set (not the test set!) to find out which hyperparameter value works best for your classifier on the data."
   ]
  },
  {
   "cell_type": "code",
   "id": "molecular-manner",
   "metadata": {
    "pycharm": {
     "name": "#%%\n"
    }
   },
   "source": [
    "possible_hp_values = np.arange(1, 10, 1)\n",
    "best_hp_value = None\n",
    "best_f1_score = -np.infty\n",
    "for hp_value in possible_hp_values:\n",
    "    nb_f_train, nb_f_valid, nb_f_test, nb_l_train, nb_l_valid, nb_l_test = data_preprocessing_abalone(uci_numpy_data, num_bins=hp_value)\n",
    "    # 1. create a baseline classifier object with hp_value specified\n",
    "    current_model = naive_bayes.NaiveBayesClassifier(uci_number_of_unique_labels)\n",
    "    \n",
    "    # 2. learn the classifier on the training set\n",
    "    current_model.learn(nb_f_train, nb_l_train)\n",
    "    \n",
    "    # 3. evaluate the model on the validation set\n",
    "    prediction = current_model.infer(nb_f_valid)\n",
    "    \n",
    "    f1_score =  np.mean(metrics.compute_f1_score(nb_l_valid, prediction))\n",
    "    if f1_score > best_f1_score:\n",
    "        best_f1_score = f1_score\n",
    "        best_hp_value = hp_value\n",
    "\n",
    "print(\"Found hyperparameter value\", best_hp_value)\n",
    "print(\"Best f1-score on validation set\", best_f1_score)\n",
    "\n",
    "uci_nb_f_train, _, uci_nb_f_test, uci_nb_l_train, _, uci_nb_l_test = data_preprocessing_abalone(uci_numpy_data, num_bins=best_hp_value)\n",
    "\n",
    "test_model = naive_bayes.NaiveBayesClassifier(uci_number_of_unique_labels)\n",
    "test_model.learn(uci_nb_f_train, uci_nb_l_train)\n",
    "prediction = test_model.infer(uci_nb_f_test)\n",
    "test_f1_score = metrics.compute_f1_score(uci_nb_l_test, prediction)\n",
    "print(\"F1-Score on test set\", np.mean(test_f1_score))"
   ],
   "execution_count": 19,
   "outputs": [
    {
     "name": "stdout",
     "output_type": "stream",
     "text": [
      "Found hyperparameter value 9\n",
      "Best f1-score on validation set 0.3106222436659307\n",
      "F1-Score on test set 0.5148206757171587\n"
     ]
    }
   ]
  },
  {
   "cell_type": "markdown",
   "id": "western-visitor",
   "metadata": {},
   "source": [
    "# Step V: Use a Neural Network Classifier"
   ]
  },
  {
   "cell_type": "markdown",
   "id": "inappropriate-affiliation",
   "metadata": {},
   "source": [
    "- Let a neural network learn on the training set and report its evaluation metric on the **validation** set."
   ]
  },
  {
   "cell_type": "code",
   "execution_count": 20,
   "outputs": [
    {
     "name": "stdout",
     "output_type": "stream",
     "text": [
      "Loss after iteration 0: 2.537846\n",
      "Loss after iteration 1000: 2.549415\n",
      "Loss after iteration 2000: 2.515284\n",
      "Loss after iteration 3000: 2.243671\n",
      "Loss after iteration 4000: 2.280138\n",
      "Loss after iteration 5000: 2.184386\n",
      "Loss after iteration 6000: 2.276024\n",
      "Loss after iteration 7000: 2.244101\n",
      "Loss after iteration 8000: 2.209638\n",
      "Loss after iteration 9000: 2.132054\n",
      "Loss after iteration 10000: 2.195749\n",
      "Loss after iteration 11000: 2.207696\n",
      "Loss after iteration 12000: 2.201797\n",
      "Loss after iteration 13000: 2.145198\n",
      "Loss after iteration 14000: 2.258692\n",
      "Loss after iteration 15000: 2.213013\n",
      "Loss after iteration 16000: 2.208448\n",
      "Loss after iteration 17000: 2.259952\n",
      "Loss after iteration 18000: 2.089610\n",
      "Loss after iteration 19000: 1.971979\n",
      "[<matplotlib.lines.Line2D object at 0x12b981850>]\n"
     ]
    },
    {
     "data": {
      "text/plain": "<Figure size 432x288 with 1 Axes>",
      "image/png": "[encoded data removed]"
     },
     "metadata": {
      "needs_background": "light"
     },
     "output_type": "display_data"
    }
   ],
   "source": [
    "input_dim = len(uci_features_for_classification[0])\n",
    "output_dim = len(np.unique(uci_labels))\n",
    "inner_dim = input_dim + 1\n",
    "nn_model = neural_network.NeuralNetwork(input_dim=input_dim, output_dim=output_dim, hidden_dimension=inner_dim, print_loss=True, print_step=1000)\n",
    "nn_model.learn(uci_features_train, uci_labels_train)"
   ],
   "metadata": {
    "collapsed": false,
    "pycharm": {
     "name": "#%%\n"
    }
   }
  },
  {
   "cell_type": "code",
   "execution_count": 21,
   "outputs": [
    {
     "name": "stdout",
     "output_type": "stream",
     "text": [
      "Accuracy: 26.31578947368421\n",
      "Recall: 0.15789473684210525\n",
      "Precision: 14.904560563754211\n",
      "F1 Score: 0.302203584528501\n"
     ]
    }
   ],
   "source": [
    "nn_prediction = nn_model.infer(uci_features_test)\n",
    "\n",
    "metrics.print_avg_metrics(uci_labels_test, nn_prediction)"
   ],
   "metadata": {
    "collapsed": false,
    "pycharm": {
     "name": "#%%\n"
    }
   }
  },
  {
   "cell_type": "markdown",
   "id": "sporting-marina",
   "metadata": {},
   "source": [
    "# Step VI: Experiment (2) Hyperparameter Choice of Neural Net"
   ]
  },
  {
   "cell_type": "markdown",
   "id": "instructional-clothing",
   "metadata": {},
   "source": [
    "- choose a hyperparameter of your neural net, e.g. the number of neurons in the first hidden layer or the learning rate for SGD\n",
    "- (iteratively) create models for each hyperparameter setting, e.g. the number of neurons h=10,20,30,40,50,60,70,80,90,100\n",
    "- train the neural net on the train set and evaluate it over your validation set\n",
    "- keep all models with each hyperparameter setting and determine which is the best performing model on the validation set\n",
    "- evaluate them also on the test set. is the best model on the validation set with its hyperparameter also the best model on the test set?"
   ]
  },
  {
   "cell_type": "code",
   "execution_count": 26,
   "id": "novel-consumer",
   "metadata": {},
   "outputs": [],
   "source": []
  },
  {
   "cell_type": "markdown",
   "id": "deluxe-spell",
   "metadata": {},
   "source": [
    "# Step VII: Experiment (3) Neural Net Stability on Shuffled Data"
   ]
  },
  {
   "cell_type": "markdown",
   "id": "timely-death",
   "metadata": {},
   "source": [
    "- over multiple runs $r \\geq 5, r\\in\\mathbb{N}$ randomly shuffle your training data\n",
    "- split it into a train-test, e.g. 90% of the data is for training, 10% for testing\n",
    "- what are the mean and standard deviation of your models over multiple runs?\n",
    "- plot a boxplot with matplotlib/seaborn of the stability of your model"
   ]
  },
  {
   "cell_type": "code",
   "execution_count": 26,
   "id": "convenient-census",
   "metadata": {},
   "outputs": [],
   "source": []
  },
  {
   "cell_type": "code",
   "execution_count": 27,
   "id": "confused-start",
   "metadata": {},
   "outputs": [
    {
     "data": {
      "text/plain": "<Figure size 432x288 with 1 Axes>",
      "image/png": "[encoded data removed]"
     },
     "metadata": {
      "needs_background": "light"
     },
     "output_type": "display_data"
    }
   ],
   "source": [
    "example_results = np.minimum(np.random.normal(0.8, 0.1, (100,)), 1)\n",
    "sns.boxplot(data=example_results)\n",
    "plt.title(\"Stability of My Model over 100 runs on test set\")\n",
    "plt.ylabel(\"Accuracy on test set\")\n",
    "plt.xlabel(\"My Model\")\n",
    "plt.show()"
   ]
  },
  {
   "cell_type": "markdown",
   "id": "wooden-composer",
   "metadata": {},
   "source": [
    "# Step VIII: Bonus: implement Momentum SGD / ADAM / .."
   ]
  },
  {
   "cell_type": "markdown",
   "id": "rolled-quilt",
   "metadata": {},
   "source": [
    "- this task is optional if you have time at the end\n",
    "- inspect your stochastic gradient descent implementation\n",
    "- have a look at online examples such as [wiseodd.github.com](https://wiseodd.github.io/techblog/2016/06/22/nn-optimization/) for implementations of variants on stochastic gradient such as with Nesterov Momentum or ADAM\n",
    "- change your implementation of SGD to one or multiple of these variants and try a simple run of your neural net and compare it with previous results\n",
    "- sketch a first design of an optimizer-class which is fed with parameters of your model and performs the update step "
   ]
  },
  {
   "cell_type": "code",
   "execution_count": 27,
   "id": "closed-stopping",
   "metadata": {},
   "outputs": [],
   "source": []
  }
 ],
 "metadata": {
  "kernelspec": {
   "display_name": "Python 3",
   "language": "python",
   "name": "python3"
  },
  "language_info": {
   "codemirror_mode": {
    "name": "ipython",
    "version": 3
   },
   "file_extension": ".py",
   "mimetype": "text/x-python",
   "name": "python",
   "nbconvert_exporter": "python",
   "pygments_lexer": "ipython3",
   "version": "3.9.2"
  }
 },
 "nbformat": 4,
 "nbformat_minor": 5
}