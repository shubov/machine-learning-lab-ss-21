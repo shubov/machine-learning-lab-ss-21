{
 "cells": [
  {
   "cell_type": "code",
   "execution_count": 1,
   "id": "990f91e6",
   "metadata": {},
   "outputs": [],
   "source": [
    "from shubov_algorithms import support_vector_machine,helpers\n",
    "import numpy as np\n",
    "import pandas as pd\n",
    "import matplotlib.pyplot as plt"
   ]
  },
  {
   "cell_type": "markdown",
   "source": [
    "#  support vector machine (task: iris plants)"
   ],
   "metadata": {
    "collapsed": false
   }
  },
  {
   "cell_type": "code",
   "execution_count": 2,
   "id": "c40374f5",
   "metadata": {},
   "outputs": [],
   "source": [
    "def test_svm(features, targets, epochs=100, svm_lambda=1, print_stat=False):\n",
    "\n",
    "    ## split features into test and train datasets\n",
    "    features_train, features_test = helpers.split_data(features)\n",
    "\n",
    "    ## transform targets (one-to-rest)\n",
    "    targets_one_to_rest = helpers.split_targets_one_to_rest(targets, percentage=0.7)\n",
    "\n",
    "    ## number of features\n",
    "    number_of_features = len(features_train[0])\n",
    "\n",
    "    ## hyper parameters for SVM\n",
    "    lmbd = svm_lambda\n",
    "    D = number_of_features\n",
    "\n",
    "    list_loss=[]\n",
    "    list_accuracy=[]\n",
    "    list_true_positives=[]\n",
    "    list_true_negatives=[]\n",
    "    \n",
    "    for class_name, targets in targets_one_to_rest:\n",
    "        \n",
    "        loss_list = []\n",
    "        acc_list = []\n",
    "        tp_list = []\n",
    "        tn_list = []\n",
    "\n",
    "        target_train, target_test = targets\n",
    "        \n",
    "        if print_stat:\n",
    "            print(\"---------------------------- \" + class_name +\" to rest\")\n",
    "\n",
    "        for i in range(epochs):\n",
    "\n",
    "            model = support_vector_machine.SVM(lmbd, D, iterator)\n",
    "\n",
    "            model.learn(features_train, target_train)\n",
    "\n",
    "            l, acc, tp, tn = model.test(features_test, target_test)\n",
    "\n",
    "            loss_list.append(l)\n",
    "            acc_list.append(acc)\n",
    "            tp_list.append(tp)\n",
    "            tn_list.append(tn)\n",
    "\n",
    "        loss = np.mean(loss_list)\n",
    "        accuracy = np.mean(acc_list) * 100\n",
    "        true_positives = np.mean(tp_list) * 100\n",
    "        true_negatives = np.mean(tn_list) * 100\n",
    "\n",
    "        if print_stat:\n",
    "            print('Accuracy', round(accuracy, 2), '%')\n",
    "            print('True Positives', round(true_positives, 2), '%')\n",
    "            print('True Negatives', round(true_negatives, 2), '%')\n",
    "            print('Loss', round(loss, 2))\n",
    "        \n",
    "        list_loss.append(loss)\n",
    "        list_accuracy.append(accuracy)\n",
    "        list_true_positives.append(true_positives)\n",
    "        list_true_negatives.append(true_negatives)\n",
    "        \n",
    "    return np.mean(list_loss),np.mean(list_accuracy),np.mean(list_true_positives),np.mean(list_true_negatives)"
   ]
  },
  {
   "cell_type": "markdown",
   "source": [
    "### iterator function"
   ],
   "metadata": {
    "collapsed": false
   }
  },
  {
   "cell_type": "code",
   "execution_count": 3,
   "outputs": [],
   "source": [
    "def iterator(x, y):\n",
    "    ## iterator function passed to SVM to read dataset by one sample\n",
    "\n",
    "    for i in range(len(x)):\n",
    "        x_bias = x[i] + [1.]  # inputs + bias\n",
    "        yield i+1, x_bias, y[i]"
   ],
   "metadata": {
    "collapsed": false,
    "pycharm": {
     "name": "#%%\n"
    }
   }
  },
  {
   "cell_type": "markdown",
   "source": [
    "### dataset"
   ],
   "metadata": {
    "collapsed": false
   }
  },
  {
   "cell_type": "code",
   "execution_count": 4,
   "outputs": [
    {
     "name": "stdout",
     "output_type": "stream",
     "text": [
      "mkdir: iris: File exists\r\n",
      "  % Total    % Received % Xferd  Average Speed   Time    Time     Time  Current\r\n",
      "                                 Dload  Upload   Total   Spent    Left  Speed\r\n",
      "100  4551  100  4551    0     0  13077      0 --:--:-- --:--:-- --:--:-- 13040\r\n",
      "  % Total    % Received % Xferd  Average Speed   Time    Time     Time  Current\r\n",
      "                                 Dload  Upload   Total   Spent    Left  Speed\r\n",
      "100  2998  100  2998    0     0   8843      0 --:--:-- --:--:-- --:--:--  8843\r\n",
      "  % Total    % Received % Xferd  Average Speed   Time    Time     Time  Current\r\n",
      "                                 Dload  Upload   Total   Spent    Left  Speed\r\n",
      "100  4551  100  4551    0     0  14586      0 --:--:-- --:--:-- --:--:-- 14539\r\n"
     ]
    }
   ],
   "source": [
    "# shell scripts for downloading the data and placing it in a corresponding directory\n",
    "!mkdir iris\n",
    "!curl -o iris/iris.data \"http://archive.ics.uci.edu/ml/machine-learning-databases/iris/iris.data\"\n",
    "!curl -o iris/description \"http://archive.ics.uci.edu/ml/machine-learning-databases/iris/iris.names\"\n",
    "!curl -o iris/bezdekIris.data \"http://archive.ics.uci.edu/ml/machine-learning-databases/iris/bezdekIris.data\"\n",
    "#!cat iris/description"
   ],
   "metadata": {
    "collapsed": false,
    "pycharm": {
     "name": "#%%\n"
    }
   }
  },
  {
   "cell_type": "code",
   "execution_count": 5,
   "id": "48e22701",
   "metadata": {},
   "outputs": [
    {
     "data": {
      "text/plain": "     0    1    2    3            4\n0  5.1  3.5  1.4  0.2  Iris-setosa\n1  4.9  3.0  1.4  0.2  Iris-setosa\n2  4.7  3.2  1.3  0.2  Iris-setosa\n3  4.6  3.1  1.5  0.2  Iris-setosa\n4  5.0  3.6  1.4  0.2  Iris-setosa",
      "text/html": "<div>\n<style scoped>\n    .dataframe tbody tr th:only-of-type {\n        vertical-align: middle;\n    }\n\n    .dataframe tbody tr th {\n        vertical-align: top;\n    }\n\n    .dataframe thead th {\n        text-align: right;\n    }\n</style>\n<table border=\"1\" class=\"dataframe\">\n  <thead>\n    <tr style=\"text-align: right;\">\n      <th></th>\n      <th>0</th>\n      <th>1</th>\n      <th>2</th>\n      <th>3</th>\n      <th>4</th>\n    </tr>\n  </thead>\n  <tbody>\n    <tr>\n      <th>0</th>\n      <td>5.1</td>\n      <td>3.5</td>\n      <td>1.4</td>\n      <td>0.2</td>\n      <td>Iris-setosa</td>\n    </tr>\n    <tr>\n      <th>1</th>\n      <td>4.9</td>\n      <td>3.0</td>\n      <td>1.4</td>\n      <td>0.2</td>\n      <td>Iris-setosa</td>\n    </tr>\n    <tr>\n      <th>2</th>\n      <td>4.7</td>\n      <td>3.2</td>\n      <td>1.3</td>\n      <td>0.2</td>\n      <td>Iris-setosa</td>\n    </tr>\n    <tr>\n      <th>3</th>\n      <td>4.6</td>\n      <td>3.1</td>\n      <td>1.5</td>\n      <td>0.2</td>\n      <td>Iris-setosa</td>\n    </tr>\n    <tr>\n      <th>4</th>\n      <td>5.0</td>\n      <td>3.6</td>\n      <td>1.4</td>\n      <td>0.2</td>\n      <td>Iris-setosa</td>\n    </tr>\n  </tbody>\n</table>\n</div>"
     },
     "execution_count": 5,
     "metadata": {},
     "output_type": "execute_result"
    }
   ],
   "source": [
    "data_frame_data = pd.read_csv(\"./iris/iris.data\", header=None)\n",
    "data_frame_data.head()"
   ]
  },
  {
   "cell_type": "code",
   "execution_count": 9,
   "id": "8e0bf547",
   "metadata": {},
   "outputs": [
    {
     "data": {
      "text/plain": "array(['Iris-versicolor', 'Iris-versicolor', 'Iris-versicolor',\n       'Iris-versicolor', 'Iris-virginica', 'Iris-virginica',\n       'Iris-virginica', 'Iris-versicolor', 'Iris-virginica',\n       'Iris-setosa', 'Iris-setosa', 'Iris-versicolor', 'Iris-versicolor',\n       'Iris-versicolor', 'Iris-virginica', 'Iris-versicolor',\n       'Iris-setosa', 'Iris-virginica', 'Iris-setosa', 'Iris-setosa',\n       'Iris-setosa', 'Iris-virginica', 'Iris-virginica',\n       'Iris-versicolor', 'Iris-versicolor', 'Iris-versicolor',\n       'Iris-virginica', 'Iris-setosa', 'Iris-versicolor', 'Iris-setosa',\n       'Iris-versicolor', 'Iris-virginica', 'Iris-setosa', 'Iris-setosa',\n       'Iris-versicolor', 'Iris-setosa', 'Iris-setosa', 'Iris-setosa',\n       'Iris-versicolor', 'Iris-versicolor', 'Iris-setosa', 'Iris-setosa',\n       'Iris-virginica', 'Iris-virginica', 'Iris-setosa', 'Iris-setosa',\n       'Iris-virginica', 'Iris-virginica', 'Iris-setosa',\n       'Iris-virginica', 'Iris-virginica', 'Iris-virginica',\n       'Iris-setosa', 'Iris-versicolor', 'Iris-versicolor',\n       'Iris-virginica', 'Iris-virginica', 'Iris-setosa', 'Iris-setosa',\n       'Iris-versicolor', 'Iris-virginica', 'Iris-versicolor',\n       'Iris-setosa', 'Iris-versicolor', 'Iris-versicolor', 'Iris-setosa',\n       'Iris-virginica', 'Iris-setosa', 'Iris-setosa', 'Iris-setosa',\n       'Iris-virginica', 'Iris-setosa', 'Iris-virginica',\n       'Iris-versicolor', 'Iris-versicolor', 'Iris-versicolor',\n       'Iris-versicolor', 'Iris-versicolor', 'Iris-virginica',\n       'Iris-setosa', 'Iris-setosa', 'Iris-setosa', 'Iris-setosa',\n       'Iris-virginica', 'Iris-setosa', 'Iris-versicolor',\n       'Iris-virginica', 'Iris-virginica', 'Iris-versicolor',\n       'Iris-setosa', 'Iris-versicolor', 'Iris-setosa', 'Iris-versicolor',\n       'Iris-versicolor', 'Iris-virginica', 'Iris-virginica',\n       'Iris-versicolor', 'Iris-versicolor', 'Iris-versicolor',\n       'Iris-virginica', 'Iris-virginica', 'Iris-virginica',\n       'Iris-versicolor', 'Iris-setosa', 'Iris-virginica',\n       'Iris-versicolor', 'Iris-versicolor', 'Iris-setosa', 'Iris-setosa',\n       'Iris-virginica', 'Iris-virginica', 'Iris-setosa',\n       'Iris-virginica', 'Iris-versicolor', 'Iris-versicolor',\n       'Iris-setosa', 'Iris-versicolor', 'Iris-setosa', 'Iris-setosa',\n       'Iris-virginica', 'Iris-setosa', 'Iris-setosa', 'Iris-virginica',\n       'Iris-setosa', 'Iris-versicolor', 'Iris-virginica',\n       'Iris-versicolor', 'Iris-virginica', 'Iris-virginica',\n       'Iris-setosa', 'Iris-setosa', 'Iris-versicolor', 'Iris-virginica',\n       'Iris-virginica', 'Iris-virginica', 'Iris-versicolor',\n       'Iris-virginica', 'Iris-versicolor', 'Iris-versicolor',\n       'Iris-virginica', 'Iris-setosa', 'Iris-virginica',\n       'Iris-versicolor', 'Iris-virginica', 'Iris-setosa',\n       'Iris-virginica', 'Iris-setosa', 'Iris-setosa', 'Iris-virginica',\n       'Iris-versicolor'], dtype=object)"
     },
     "execution_count": 9,
     "metadata": {},
     "output_type": "execute_result"
    }
   ],
   "source": [
    "np_data = data_frame_data.to_numpy()\n",
    "np.random.shuffle(np_data)\n",
    "features, targets = np_data[:,0:4], np_data[:,4]\n",
    "targets"
   ]
  },
  {
   "cell_type": "markdown",
   "source": [
    "### test"
   ],
   "metadata": {
    "collapsed": false
   }
  },
  {
   "cell_type": "code",
   "execution_count": 7,
   "outputs": [
    {
     "name": "stdout",
     "output_type": "stream",
     "text": [
      "---------------------------- Iris-setosa to rest\n",
      "Accuracy 100.0 %\n",
      "True Positives 100.0 %\n",
      "True Negatives 100.0 %\n",
      "Loss 0.14\n",
      "---------------------------- Iris-versicolor to rest\n",
      "Accuracy 51.11 %\n",
      "True Positives 58.33 %\n",
      "True Negatives 48.48 %\n",
      "Loss 0.87\n",
      "---------------------------- Iris-virginica to rest\n",
      "Accuracy 95.56 %\n",
      "True Positives 100.0 %\n",
      "True Negatives 92.86 %\n",
      "Loss 0.58\n"
     ]
    },
    {
     "data": {
      "text/plain": "(0.5296884328407555, 82.22222222222223, 86.11111111111113, 80.44733044733046)"
     },
     "execution_count": 7,
     "metadata": {},
     "output_type": "execute_result"
    }
   ],
   "source": [
    "test_svm(features, targets, epochs=50, svm_lambda=1, print_stat=True)"
   ],
   "metadata": {
    "collapsed": false,
    "pycharm": {
     "name": "#%%\n"
    }
   }
  },
  {
   "cell_type": "markdown",
   "source": [
    "### test with different lambdas"
   ],
   "metadata": {
    "collapsed": false
   }
  },
  {
   "cell_type": "code",
   "execution_count": 8,
   "id": "7870b7ef",
   "metadata": {
    "pycharm": {
     "name": "#%%\n"
    }
   },
   "outputs": [
    {
     "data": {
      "text/plain": "<matplotlib.legend.Legend at 0x141030e80>"
     },
     "execution_count": 8,
     "metadata": {},
     "output_type": "execute_result"
    },
    {
     "data": {
      "text/plain": "<Figure size 432x288 with 1 Axes>",
      "image/png": "[encoded data removed]"
     },
     "metadata": {
      "needs_background": "light"
     },
     "output_type": "display_data"
    }
   ],
   "source": [
    "list_loss=[]\n",
    "list_accuracy=[]\n",
    "list_true_positives=[]\n",
    "list_true_negatives=[]\n",
    "\n",
    "lambdas = np.arange(0.01, 3, 0.1)\n",
    "\n",
    "for lmbd in lambdas:\n",
    "    \n",
    "    #print(\"Hyper parameter lambda:\", lmbd)\n",
    "    \n",
    "    loss, accuracy, true_positives, true_negatives = test_svm(features, targets, svm_lambda=lmbd)\n",
    "    \n",
    "    list_loss.append(loss)\n",
    "    list_accuracy.append(accuracy)\n",
    "    list_true_positives.append(true_positives)\n",
    "    list_true_negatives.append(true_negatives)\n",
    "    \n",
    "    #print(\"\\n\")\n",
    "    \n",
    "#plt.plot(lambdas, list_loss,label=\"loss\")\n",
    "plt.plot(lambdas, list_accuracy, label=\"accuracy\")\n",
    "plt.plot(lambdas, list_true_positives, label=\"true_positives\")\n",
    "plt.plot(lambdas, list_true_negatives, label=\"true_negatives\")\n",
    "plt.ylabel('value')\n",
    "plt.xlabel('lambda')\n",
    "plt.legend()"
   ]
  }
 ],
 "metadata": {
  "kernelspec": {
   "display_name": "Python 3 (ipykernel)",
   "language": "python",
   "name": "python3"
  },
  "language_info": {
   "codemirror_mode": {
    "name": "ipython",
    "version": 3
   },
   "file_extension": ".py",
   "mimetype": "text/x-python",
   "name": "python",
   "nbconvert_exporter": "python",
   "pygments_lexer": "ipython3",
   "version": "3.9.6"
  }
 },
 "nbformat": 4,
 "nbformat_minor": 5
}