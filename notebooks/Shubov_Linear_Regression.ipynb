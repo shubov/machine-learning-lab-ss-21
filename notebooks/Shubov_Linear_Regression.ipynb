{
 "cells": [
  {
   "cell_type": "code",
   "execution_count": 1,
   "metadata": {
    "executionInfo": {
     "elapsed": 322,
     "status": "ok",
     "timestamp": 1621962806660,
     "user": {
      "displayName": "Mikhail Shubov",
      "photoUrl": "https://lh3.googleusercontent.com/a-/AOh14GjWceuXUWAY46GvvKiyocgvAM2QNAogHpziWZJ8=s64",
      "userId": "09531201937302056558"
     },
     "user_tz": -120
    },
    "id": "HZ1HU1QRc6BZ"
   },
   "outputs": [],
   "source": [
    "import numpy as np\n",
    "import matplotlib.pyplot as plt\n",
    "import pandas as pd\n",
    "from shubov_algorithms import linear_regression, helpers"
   ]
  },
  {
   "cell_type": "markdown",
   "metadata": {
    "id": "Jw6uc3khc6Bn"
   },
   "source": [
    "# Task\n",
    "Given the car example below, how can we predict the miles per gallon from cylinders, displacement, horsepower, weight, acceleration and year?"
   ]
  },
  {
   "cell_type": "code",
   "execution_count": 2,
   "metadata": {
    "colab": {
     "base_uri": "https://localhost:8080/",
     "height": 194
    },
    "executionInfo": {
     "elapsed": 410,
     "status": "ok",
     "timestamp": 1621962808095,
     "user": {
      "displayName": "Mikhail Shubov",
      "photoUrl": "https://lh3.googleusercontent.com/a-/AOh14GjWceuXUWAY46GvvKiyocgvAM2QNAogHpziWZJ8=s64",
      "userId": "09531201937302056558"
     },
     "user_tz": -120
    },
    "id": "HHL8rL2oc6Bo",
    "outputId": "0882ac7a-c6a7-4e4d-9126-0e0c04797530",
    "scrolled": true
   },
   "outputs": [
    {
     "data": {
      "text/plain": "    mpg  cylinders  displacement  horsepower  weight  acceleration  year  \\\n0  18.0        8.0         307.0       130.0  3504.0          12.0  70.0   \n1  15.0        8.0         350.0       165.0  3693.0          11.5  70.0   \n2  18.0        8.0         318.0       150.0  3436.0          11.0  70.0   \n3  16.0        8.0         304.0       150.0  3433.0          12.0  70.0   \n4  17.0        8.0         302.0       140.0  3449.0          10.5  70.0   \n\n   origin                       name  \n0     1.0  chevrolet chevelle malibu  \n1     1.0          buick skylark 320  \n2     1.0         plymouth satellite  \n3     1.0              amc rebel sst  \n4     1.0                ford torino  ",
      "text/html": "<div>\n<style scoped>\n    .dataframe tbody tr th:only-of-type {\n        vertical-align: middle;\n    }\n\n    .dataframe tbody tr th {\n        vertical-align: top;\n    }\n\n    .dataframe thead th {\n        text-align: right;\n    }\n</style>\n<table border=\"1\" class=\"dataframe\">\n  <thead>\n    <tr style=\"text-align: right;\">\n      <th></th>\n      <th>mpg</th>\n      <th>cylinders</th>\n      <th>displacement</th>\n      <th>horsepower</th>\n      <th>weight</th>\n      <th>acceleration</th>\n      <th>year</th>\n      <th>origin</th>\n      <th>name</th>\n    </tr>\n  </thead>\n  <tbody>\n    <tr>\n      <th>0</th>\n      <td>18.0</td>\n      <td>8.0</td>\n      <td>307.0</td>\n      <td>130.0</td>\n      <td>3504.0</td>\n      <td>12.0</td>\n      <td>70.0</td>\n      <td>1.0</td>\n      <td>chevrolet chevelle malibu</td>\n    </tr>\n    <tr>\n      <th>1</th>\n      <td>15.0</td>\n      <td>8.0</td>\n      <td>350.0</td>\n      <td>165.0</td>\n      <td>3693.0</td>\n      <td>11.5</td>\n      <td>70.0</td>\n      <td>1.0</td>\n      <td>buick skylark 320</td>\n    </tr>\n    <tr>\n      <th>2</th>\n      <td>18.0</td>\n      <td>8.0</td>\n      <td>318.0</td>\n      <td>150.0</td>\n      <td>3436.0</td>\n      <td>11.0</td>\n      <td>70.0</td>\n      <td>1.0</td>\n      <td>plymouth satellite</td>\n    </tr>\n    <tr>\n      <th>3</th>\n      <td>16.0</td>\n      <td>8.0</td>\n      <td>304.0</td>\n      <td>150.0</td>\n      <td>3433.0</td>\n      <td>12.0</td>\n      <td>70.0</td>\n      <td>1.0</td>\n      <td>amc rebel sst</td>\n    </tr>\n    <tr>\n      <th>4</th>\n      <td>17.0</td>\n      <td>8.0</td>\n      <td>302.0</td>\n      <td>140.0</td>\n      <td>3449.0</td>\n      <td>10.5</td>\n      <td>70.0</td>\n      <td>1.0</td>\n      <td>ford torino</td>\n    </tr>\n  </tbody>\n</table>\n</div>"
     },
     "execution_count": 2,
     "metadata": {},
     "output_type": "execute_result"
    }
   ],
   "source": [
    "table = pd.read_csv(\"mllab-03-auto-mpg.csv\")\n",
    "table.head()"
   ]
  },
  {
   "cell_type": "markdown",
   "metadata": {
    "id": "jpHvGL8hgOgS"
   },
   "source": [
    "# Splitting"
   ]
  },
  {
   "cell_type": "code",
   "execution_count": 3,
   "metadata": {
    "executionInfo": {
     "elapsed": 369,
     "status": "ok",
     "timestamp": 1621962810935,
     "user": {
      "displayName": "Mikhail Shubov",
      "photoUrl": "https://lh3.googleusercontent.com/a-/AOh14GjWceuXUWAY46GvvKiyocgvAM2QNAogHpziWZJ8=s64",
      "userId": "09531201937302056558"
     },
     "user_tz": -120
    },
    "id": "6Q6cP_oHd2X4"
   },
   "outputs": [],
   "source": [
    "def train_test_data_split(data, percentage=0.7):\n",
    "    m, n = data.shape\n",
    "    idx = np.random.permutation(m)\n",
    "    training = data[idx[1:round(percentage*m)],:]\n",
    "    testing = data[idx[round(percentage*m)+1:],:]\n",
    "    return training, testing"
   ]
  },
  {
   "cell_type": "code",
   "execution_count": 4,
   "metadata": {
    "executionInfo": {
     "elapsed": 347,
     "status": "ok",
     "timestamp": 1621962813230,
     "user": {
      "displayName": "Mikhail Shubov",
      "photoUrl": "https://lh3.googleusercontent.com/a-/AOh14GjWceuXUWAY46GvvKiyocgvAM2QNAogHpziWZJ8=s64",
      "userId": "09531201937302056558"
     },
     "user_tz": -120
    },
    "id": "uWRGkz5agTEY"
   },
   "outputs": [],
   "source": [
    "data = table[['cylinders', 'displacement', 'horsepower', 'weight', 'acceleration', 'year','origin', 'mpg']].values\n",
    "m, n = data.shape\n",
    "training, testing = train_test_data_split(data)\n",
    "X_training = training[:,0:n-1]\n",
    "y_training = training[:,n-1]\n",
    "X_testing = testing[:,0:n-1]\n",
    "y_testing = testing[:,n-1]"
   ]
  },
  {
   "cell_type": "markdown",
   "metadata": {
    "id": "IGxwzmqdhT8N"
   },
   "source": [
    "# Training"
   ]
  },
  {
   "cell_type": "code",
   "execution_count": 5,
   "metadata": {},
   "outputs": [],
   "source": [
    "model = linear_regression.LinearRegression(epochs=50)"
   ]
  },
  {
   "cell_type": "code",
   "execution_count": 6,
   "metadata": {},
   "outputs": [],
   "source": [
    "scaler, X_training_scaled = helpers.scale_train_features(X_training)"
   ]
  },
  {
   "cell_type": "code",
   "execution_count": 7,
   "metadata": {
    "colab": {
     "base_uri": "https://localhost:8080/"
    },
    "executionInfo": {
     "elapsed": 685,
     "status": "ok",
     "timestamp": 1621962824700,
     "user": {
      "displayName": "Mikhail Shubov",
      "photoUrl": "https://lh3.googleusercontent.com/a-/AOh14GjWceuXUWAY46GvvKiyocgvAM2QNAogHpziWZJ8=s64",
      "userId": "09531201937302056558"
     },
     "user_tz": -120
    },
    "id": "pZbJrKxrc6Bw",
    "outputId": "78d42c44-3730-47d3-dd8f-977d03cbddee"
   },
   "outputs": [],
   "source": [
    "mse = model.learn(X_training_scaled, y_training)"
   ]
  },
  {
   "cell_type": "code",
   "execution_count": 8,
   "metadata": {},
   "outputs": [
    {
     "data": {
      "text/plain": "[<matplotlib.lines.Line2D at 0x128e864f0>]"
     },
     "execution_count": 8,
     "metadata": {},
     "output_type": "execute_result"
    },
    {
     "data": {
      "text/plain": "<Figure size 432x288 with 1 Axes>",
      "image/png": "[encoded data removed]"
     },
     "metadata": {
      "needs_background": "light"
     },
     "output_type": "display_data"
    }
   ],
   "source": [
    "plt.ylabel('Cost function')\n",
    "plt.xlabel('Epochs')\n",
    "plt.plot(mse)"
   ]
  },
  {
   "cell_type": "markdown",
   "metadata": {
    "id": "IkgMFxBxhRAp"
   },
   "source": [
    "# Testing"
   ]
  },
  {
   "cell_type": "code",
   "execution_count": 9,
   "metadata": {},
   "outputs": [],
   "source": [
    "X_testing_scaled = helpers.scale_test_features(scaler,X_testing)"
   ]
  },
  {
   "cell_type": "code",
   "execution_count": 10,
   "metadata": {
    "colab": {
     "base_uri": "https://localhost:8080/"
    },
    "executionInfo": {
     "elapsed": 435,
     "status": "ok",
     "timestamp": 1621962834629,
     "user": {
      "displayName": "Mikhail Shubov",
      "photoUrl": "https://lh3.googleusercontent.com/a-/AOh14GjWceuXUWAY46GvvKiyocgvAM2QNAogHpziWZJ8=s64",
      "userId": "09531201937302056558"
     },
     "user_tz": -120
    },
    "id": "I6DPc1p1b2EI",
    "outputId": "234ad28e-e63a-459b-a1b7-0c7fe775cc0b"
   },
   "outputs": [
    {
     "name": "stdout",
     "output_type": "stream",
     "text": [
      "Cost function: 77.79441257660247\n"
     ]
    }
   ],
   "source": [
    "y_predicted = model.infer(X_testing_scaled)\n",
    "mse_test = (np.square(y_predicted - y_testing)).mean()\n",
    "print(\"Cost function:\", mse_test)"
   ]
  },
  {
   "cell_type": "code",
   "execution_count": 11,
   "outputs": [
    {
     "data": {
      "text/plain": "<matplotlib.legend.Legend at 0x128f86370>"
     },
     "execution_count": 11,
     "metadata": {},
     "output_type": "execute_result"
    },
    {
     "data": {
      "text/plain": "<Figure size 432x288 with 1 Axes>",
      "image/png": "[encoded data removed]"
     },
     "metadata": {
      "needs_background": "light"
     },
     "output_type": "display_data"
    }
   ],
   "source": [
    "plt.plot(np.array(y_predicted)[:,0], label=\"Predicted\")\n",
    "plt.plot(y_testing, label=\"True\")\n",
    "plt.legend()"
   ],
   "metadata": {
    "collapsed": false,
    "pycharm": {
     "name": "#%%\n"
    }
   }
  },
  {
   "cell_type": "code",
   "execution_count": 11,
   "outputs": [],
   "source": [],
   "metadata": {
    "collapsed": false,
    "pycharm": {
     "name": "#%%\n"
    }
   }
  }
 ],
 "metadata": {
  "colab": {
   "collapsed_sections": [],
   "name": "Copy of ML2 Linear Regression.ipynb",
   "provenance": [
    {
     "file_id": "1TTI2XTVxikV8exbES9Ky12cncYmr4I2z",
     "timestamp": 1621869759437
    }
   ],
   "toc_visible": true
  },
  "kernelspec": {
   "display_name": "Python 3 (ipykernel)",
   "language": "python",
   "name": "python3"
  },
  "language_info": {
   "codemirror_mode": {
    "name": "ipython",
    "version": 3
   },
   "file_extension": ".py",
   "mimetype": "text/x-python",
   "name": "python",
   "nbconvert_exporter": "python",
   "pygments_lexer": "ipython3",
   "version": "3.9.6"
  }
 },
 "nbformat": 4,
 "nbformat_minor": 1
}