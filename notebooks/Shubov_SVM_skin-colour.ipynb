{
 "cells": [
  {
   "cell_type": "code",
   "execution_count": 1,
   "id": "990f91e6",
   "metadata": {},
   "outputs": [],
   "source": [
    "from shubov_algorithms import support_vector_machine,helpers\n",
    "import numpy as np\n",
    "import pandas as pd\n",
    "import matplotlib.pyplot as plt"
   ]
  },
  {
   "cell_type": "markdown",
   "source": [
    "#  support vector machine (task: skin pixels)"
   ],
   "metadata": {
    "collapsed": false
   }
  },
  {
   "cell_type": "code",
   "execution_count": 2,
   "id": "7d466315",
   "metadata": {},
   "outputs": [],
   "source": [
    "def test_svm(features, targets, epochs=100, svm_lambda=1, print_stat=False):\n",
    "\n",
    "    ## split features into test and train datasets\n",
    "    features_train, features_test = helpers.split_data(features)\n",
    "\n",
    "    ## split targets into test and train datasets\n",
    "    target_train, target_test = helpers.split_data(targets)\n",
    "\n",
    "    ## number of features\n",
    "    number_of_features = len(features_train[0])\n",
    "\n",
    "    ## hyper parameters for SVM\n",
    "    lmbd = svm_lambda\n",
    "    D = number_of_features\n",
    "\n",
    "    model = support_vector_machine.SVM(lmbd, D, iterator)\n",
    "\n",
    "    model.learn(features_train, target_train)\n",
    "\n",
    "    loss, accuracy, true_positives, true_negatives = model.test(features_test, target_test)\n",
    "    \n",
    "    if print_stat:\n",
    "        print('Accuracy', round(accuracy, 2))\n",
    "        print('True Positives', round(true_positives, 2))\n",
    "        print('True Negatives', round(true_negatives, 2))\n",
    "        print('Loss', round(loss, 2))\n",
    "        \n",
    "    return loss,accuracy,true_positives,true_negatives"
   ]
  },
  {
   "cell_type": "markdown",
   "source": [
    "### iterator function"
   ],
   "metadata": {
    "collapsed": false
   }
  },
  {
   "cell_type": "code",
   "execution_count": 3,
   "outputs": [],
   "source": [
    "def iterator(x, y):\n",
    "    ## iterator function passed to SVM to read dataset by one sample\n",
    "\n",
    "    for i in range(len(x)):\n",
    "        x_bias = x[i] + [1.]  # inputs + bias\n",
    "        yield i+1, x_bias, y[i]"
   ],
   "metadata": {
    "collapsed": false,
    "pycharm": {
     "name": "#%%\n"
    }
   }
  },
  {
   "cell_type": "markdown",
   "source": [
    "### dataset"
   ],
   "metadata": {
    "collapsed": false
   }
  },
  {
   "cell_type": "code",
   "execution_count": 4,
   "outputs": [
    {
     "data": {
      "text/plain": "    0   1    2  3\n0  74  85  123  1\n1  73  84  122  1\n2  72  83  121  1\n3  70  81  119  1\n4  70  81  119  1",
      "text/html": "<div>\n<style scoped>\n    .dataframe tbody tr th:only-of-type {\n        vertical-align: middle;\n    }\n\n    .dataframe tbody tr th {\n        vertical-align: top;\n    }\n\n    .dataframe thead th {\n        text-align: right;\n    }\n</style>\n<table border=\"1\" class=\"dataframe\">\n  <thead>\n    <tr style=\"text-align: right;\">\n      <th></th>\n      <th>0</th>\n      <th>1</th>\n      <th>2</th>\n      <th>3</th>\n    </tr>\n  </thead>\n  <tbody>\n    <tr>\n      <th>0</th>\n      <td>74</td>\n      <td>85</td>\n      <td>123</td>\n      <td>1</td>\n    </tr>\n    <tr>\n      <th>1</th>\n      <td>73</td>\n      <td>84</td>\n      <td>122</td>\n      <td>1</td>\n    </tr>\n    <tr>\n      <th>2</th>\n      <td>72</td>\n      <td>83</td>\n      <td>121</td>\n      <td>1</td>\n    </tr>\n    <tr>\n      <th>3</th>\n      <td>70</td>\n      <td>81</td>\n      <td>119</td>\n      <td>1</td>\n    </tr>\n    <tr>\n      <th>4</th>\n      <td>70</td>\n      <td>81</td>\n      <td>119</td>\n      <td>1</td>\n    </tr>\n  </tbody>\n</table>\n</div>"
     },
     "execution_count": 4,
     "metadata": {},
     "output_type": "execute_result"
    }
   ],
   "source": [
    "url = \"https://archive.ics.uci.edu/ml/machine-learning-databases/00229/Skin_NonSkin.txt\"\n",
    "data_frame_data = pd.read_csv(url, header = None, sep='\\t')\n",
    "data_frame_data.head()"
   ],
   "metadata": {
    "collapsed": false,
    "pycharm": {
     "name": "#%%\n"
    }
   }
  },
  {
   "cell_type": "code",
   "execution_count": 5,
   "outputs": [],
   "source": [
    "np_data = data_frame_data.to_numpy()\n",
    "np.random.shuffle(np_data)\n",
    "features = np_data[:,0:3]\n",
    "targets = data = [1 if (y == 2) else -1 for y in np_data[:,3]]"
   ],
   "metadata": {
    "collapsed": false,
    "pycharm": {
     "name": "#%%\n"
    }
   }
  },
  {
   "cell_type": "markdown",
   "source": [
    "### test"
   ],
   "metadata": {
    "collapsed": false
   }
  },
  {
   "cell_type": "code",
   "execution_count": 6,
   "outputs": [
    {
     "name": "stdout",
     "output_type": "stream",
     "text": [
      "Accuracy 0.9\n",
      "True Positives 0.88\n",
      "True Negatives 1.0\n",
      "Loss 0.38\n"
     ]
    },
    {
     "data": {
      "text/plain": "(0.3842279628827226, 0.9021586843859244, 0.8765256201184448, 1.0)"
     },
     "execution_count": 6,
     "metadata": {},
     "output_type": "execute_result"
    }
   ],
   "source": [
    "test_svm(features, targets, epochs=50, svm_lambda=1, print_stat=True)"
   ],
   "metadata": {
    "collapsed": false,
    "pycharm": {
     "name": "#%%\n"
    }
   }
  },
  {
   "cell_type": "markdown",
   "source": [
    "### test with different lambdas"
   ],
   "metadata": {
    "collapsed": false
   }
  },
  {
   "cell_type": "code",
   "execution_count": 7,
   "id": "c40374f5",
   "metadata": {},
   "outputs": [
    {
     "data": {
      "text/plain": "<matplotlib.legend.Legend at 0x146b9f8b0>"
     },
     "execution_count": 7,
     "metadata": {},
     "output_type": "execute_result"
    },
    {
     "data": {
      "text/plain": "<Figure size 432x288 with 1 Axes>",
      "image/png": "[encoded data removed]"
     },
     "metadata": {
      "needs_background": "light"
     },
     "output_type": "display_data"
    }
   ],
   "source": [
    "list_loss=[]\n",
    "list_accuracy=[]\n",
    "list_true_positives=[]\n",
    "list_true_negatives=[]\n",
    "\n",
    "lambdas = np.arange(0.2, 2, 0.2)\n",
    "\n",
    "for lmbd in lambdas:\n",
    "    \n",
    "    loss, accuracy, true_positives, true_negatives = test_svm(features, targets, epochs=3, svm_lambda=lmbd)\n",
    "    \n",
    "    list_loss.append(loss)\n",
    "    list_accuracy.append(accuracy)\n",
    "    list_true_positives.append(true_positives)\n",
    "    list_true_negatives.append(true_negatives)\n",
    "    \n",
    "plt.plot(lambdas, list_loss,label=\"loss\")\n",
    "plt.plot(lambdas, list_accuracy, label=\"accuracy\")\n",
    "plt.plot(lambdas, list_true_positives, label=\"true_positives\")\n",
    "plt.plot(lambdas, list_true_negatives, label=\"true_negatives\")\n",
    "plt.ylabel('value')\n",
    "plt.xlabel('lambda')\n",
    "plt.legend()\n",
    "\n"
   ]
  },
  {
   "cell_type": "code",
   "execution_count": 7,
   "id": "6e0bff80",
   "metadata": {},
   "outputs": [],
   "source": []
  }
 ],
 "metadata": {
  "kernelspec": {
   "display_name": "Python 3 (ipykernel)",
   "language": "python",
   "name": "python3"
  },
  "language_info": {
   "codemirror_mode": {
    "name": "ipython",
    "version": 3
   },
   "file_extension": ".py",
   "mimetype": "text/x-python",
   "name": "python",
   "nbconvert_exporter": "python",
   "pygments_lexer": "ipython3",
   "version": "3.9.6"
  }
 },
 "nbformat": 4,
 "nbformat_minor": 5
}