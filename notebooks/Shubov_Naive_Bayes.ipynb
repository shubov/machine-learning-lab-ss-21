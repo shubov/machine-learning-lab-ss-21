{
 "cells": [
  {
   "cell_type": "code",
   "execution_count": 9,
   "outputs": [],
   "source": [
    "from shubov_algorithms import naive_bayes,helpers\n",
    "import numpy as np\n",
    "import pandas as pd\n",
    "import matplotlib.pyplot as plt"
   ],
   "metadata": {
    "collapsed": false,
    "pycharm": {
     "name": "#%%\n"
    }
   }
  },
  {
   "cell_type": "markdown",
   "source": [
    "### dataset"
   ],
   "metadata": {
    "collapsed": false
   }
  },
  {
   "cell_type": "code",
   "execution_count": 10,
   "outputs": [
    {
     "name": "stdout",
     "output_type": "stream",
     "text": [
      "mkdir: iris: File exists\r\n",
      "  % Total    % Received % Xferd  Average Speed   Time    Time     Time  Current\r\n",
      "                                 Dload  Upload   Total   Spent    Left  Speed\r\n",
      "100  4551  100  4551    0     0  14046      0 --:--:-- --:--:-- --:--:--     0-:-- 14046\r\n",
      "  % Total    % Received % Xferd  Average Speed   Time    Time     Time  Current\r\n",
      "                                 Dload  Upload   Total   Spent    Left  Speed\r\n",
      "100  2998  100  2998    0     0   9168      0 --:--:-- --:--:-- --:--:--  9168\r\n",
      "  % Total    % Received % Xferd  Average Speed   Time    Time     Time  Current\r\n",
      "                                 Dload  Upload   Total   Spent    Left  Speed\r\n",
      "100  4551  100  4551    0     0  14493      0 --:--:-- --:--:-- --:--:-- 14493\r\n"
     ]
    }
   ],
   "source": [
    "# shell scripts for downloading the data and placing it in a corresponding directory\n",
    "!mkdir iris\n",
    "!curl -o iris/iris.data \"http://archive.ics.uci.edu/ml/machine-learning-databases/iris/iris.data\"\n",
    "!curl -o iris/description \"http://archive.ics.uci.edu/ml/machine-learning-databases/iris/iris.names\"\n",
    "!curl -o iris/bezdekIris.data \"http://archive.ics.uci.edu/ml/machine-learning-databases/iris/bezdekIris.data\"\n",
    "#!cat iris/description"
   ],
   "metadata": {
    "collapsed": false,
    "pycharm": {
     "name": "#%%\n"
    }
   }
  },
  {
   "cell_type": "code",
   "execution_count": 11,
   "outputs": [
    {
     "data": {
      "text/plain": "     0    1    2    3            4\n0  5.1  3.5  1.4  0.2  Iris-setosa\n1  4.9  3.0  1.4  0.2  Iris-setosa\n2  4.7  3.2  1.3  0.2  Iris-setosa\n3  4.6  3.1  1.5  0.2  Iris-setosa\n4  5.0  3.6  1.4  0.2  Iris-setosa",
      "text/html": "<div>\n<style scoped>\n    .dataframe tbody tr th:only-of-type {\n        vertical-align: middle;\n    }\n\n    .dataframe tbody tr th {\n        vertical-align: top;\n    }\n\n    .dataframe thead th {\n        text-align: right;\n    }\n</style>\n<table border=\"1\" class=\"dataframe\">\n  <thead>\n    <tr style=\"text-align: right;\">\n      <th></th>\n      <th>0</th>\n      <th>1</th>\n      <th>2</th>\n      <th>3</th>\n      <th>4</th>\n    </tr>\n  </thead>\n  <tbody>\n    <tr>\n      <th>0</th>\n      <td>5.1</td>\n      <td>3.5</td>\n      <td>1.4</td>\n      <td>0.2</td>\n      <td>Iris-setosa</td>\n    </tr>\n    <tr>\n      <th>1</th>\n      <td>4.9</td>\n      <td>3.0</td>\n      <td>1.4</td>\n      <td>0.2</td>\n      <td>Iris-setosa</td>\n    </tr>\n    <tr>\n      <th>2</th>\n      <td>4.7</td>\n      <td>3.2</td>\n      <td>1.3</td>\n      <td>0.2</td>\n      <td>Iris-setosa</td>\n    </tr>\n    <tr>\n      <th>3</th>\n      <td>4.6</td>\n      <td>3.1</td>\n      <td>1.5</td>\n      <td>0.2</td>\n      <td>Iris-setosa</td>\n    </tr>\n    <tr>\n      <th>4</th>\n      <td>5.0</td>\n      <td>3.6</td>\n      <td>1.4</td>\n      <td>0.2</td>\n      <td>Iris-setosa</td>\n    </tr>\n  </tbody>\n</table>\n</div>"
     },
     "execution_count": 11,
     "metadata": {},
     "output_type": "execute_result"
    }
   ],
   "source": [
    "data_frame_data = pd.read_csv(\"./iris/iris.data\", header=None)\n",
    "data_frame_data.head()"
   ],
   "metadata": {
    "collapsed": false,
    "pycharm": {
     "name": "#%%\n"
    }
   }
  },
  {
   "cell_type": "code",
   "execution_count": 12,
   "outputs": [],
   "source": [
    "np_data = data_frame_data.to_numpy()\n",
    "np.random.shuffle(np_data)\n",
    "features, targets = np_data[:,0:4], np_data[:,4]"
   ],
   "metadata": {
    "collapsed": false,
    "pycharm": {
     "name": "#%%\n"
    }
   }
  },
  {
   "cell_type": "code",
   "execution_count": 13,
   "outputs": [],
   "source": [
    "features = helpers.to_binary_features(features)\n",
    "targets = helpers.transform_targets_to_numbers(targets)"
   ],
   "metadata": {
    "collapsed": false,
    "pycharm": {
     "name": "#%%\n"
    }
   }
  },
  {
   "cell_type": "code",
   "execution_count": 14,
   "outputs": [],
   "source": [
    "features_train, features_test = helpers.split_data(features)\n",
    "targets_train, targets_test = helpers.split_data(targets)"
   ],
   "metadata": {
    "collapsed": false,
    "pycharm": {
     "name": "#%%\n"
    }
   }
  },
  {
   "cell_type": "markdown",
   "metadata": {
    "executionInfo": {
     "elapsed": 631,
     "status": "ok",
     "timestamp": 1621544368477,
     "user": {
      "displayName": "Mikhail Shubov",
      "photoUrl": "https://lh3.googleusercontent.com/a-/AOh14GjWceuXUWAY46GvvKiyocgvAM2QNAogHpziWZJ8=s64",
      "userId": "09531201937302056558"
     },
     "user_tz": -120
    },
    "id": "IczpeTb1k4Xu",
    "pycharm": {
     "name": "#%% md\n"
    }
   },
   "source": [
    "# Learn"
   ]
  },
  {
   "cell_type": "code",
   "metadata": {
    "id": "Autgfvxlk4Xw",
    "pycharm": {
     "name": "#%%\n"
    }
   },
   "source": [
    "from shubov_algorithms import naive_bayes\n",
    "model = naive_bayes.NaiveBayesClassifier(len(np.unique(targets)))\n",
    "model.learn(features_train, targets_train)"
   ],
   "execution_count": 15,
   "outputs": []
  },
  {
   "cell_type": "markdown",
   "metadata": {
    "executionInfo": {
     "elapsed": 8306,
     "status": "ok",
     "timestamp": 1621543538060,
     "user": {
      "displayName": "Mikhail Shubov",
      "photoUrl": "https://lh3.googleusercontent.com/a-/AOh14GjWceuXUWAY46GvvKiyocgvAM2QNAogHpziWZJ8=s64",
      "userId": "09531201937302056558"
     },
     "user_tz": -120
    },
    "id": "Vc5TfZzAd3bE",
    "pycharm": {
     "name": "#%% md\n"
    }
   },
   "source": [
    "# Infer"
   ]
  },
  {
   "cell_type": "code",
   "execution_count": 16,
   "metadata": {
    "executionInfo": {
     "elapsed": 19325,
     "status": "ok",
     "timestamp": 1621543560413,
     "user": {
      "displayName": "Mikhail Shubov",
      "photoUrl": "https://lh3.googleusercontent.com/a-/AOh14GjWceuXUWAY46GvvKiyocgvAM2QNAogHpziWZJ8=s64",
      "userId": "09531201937302056558"
     },
     "user_tz": -120
    },
    "id": "7FCNw5uEk4Xy",
    "pycharm": {
     "name": "#%%\n"
    }
   },
   "outputs": [
    {
     "name": "stdout",
     "output_type": "stream",
     "text": [
      "Accuracy: 97.78 %\n"
     ]
    }
   ],
   "source": [
    "from sklearn import metrics\n",
    "print('Accuracy: %2.2f %%' % (100. * metrics.accuracy_score(model.infer(features_test), targets_test)))"
   ]
  }
 ],
 "metadata": {
  "colab": {
   "collapsed_sections": [
    "7jzvYupck4Xi",
    "cHlTzWUGk4Xt",
    "Autgfvxlk4Xw",
    "6WP8iA9SeeIb"
   ],
   "name": "NaiveBayes.ipynb",
   "provenance": []
  },
  "kernelspec": {
   "display_name": "Python 3 (ipykernel)",
   "language": "python",
   "name": "python3"
  },
  "language_info": {
   "codemirror_mode": {
    "name": "ipython",
    "version": 3
   },
   "file_extension": ".py",
   "mimetype": "text/x-python",
   "name": "python",
   "nbconvert_exporter": "python",
   "pygments_lexer": "ipython3",
   "version": "3.9.6"
  }
 },
 "nbformat": 4,
 "nbformat_minor": 1
}