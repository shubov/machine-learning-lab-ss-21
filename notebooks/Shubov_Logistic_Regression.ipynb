{
 "cells": [
  {
   "cell_type": "code",
   "execution_count": 1,
   "metadata": {},
   "outputs": [],
   "source": [
    "import numpy as np\n",
    "import matplotlib.pyplot as plt"
   ]
  },
  {
   "cell_type": "markdown",
   "metadata": {},
   "source": [
    "## Dataset"
   ]
  },
  {
   "cell_type": "code",
   "execution_count": 2,
   "metadata": {},
   "outputs": [
    {
     "data": {
      "text/plain": "(2, 1000)"
     },
     "execution_count": 2,
     "metadata": {},
     "output_type": "execute_result"
    }
   ],
   "source": [
    "n_samples = 1000\n",
    "mean = [5, 9]\n",
    "cov = [[2.5, 0.8], [0.8, 0.5]]\n",
    "X_p = np.random.multivariate_normal(mean, cov, n_samples).T\n",
    "X_p.shape"
   ]
  },
  {
   "cell_type": "code",
   "execution_count": 3,
   "metadata": {},
   "outputs": [
    {
     "data": {
      "text/plain": "(2, 1000)"
     },
     "execution_count": 3,
     "metadata": {},
     "output_type": "execute_result"
    }
   ],
   "source": [
    "mean = [11, 3]\n",
    "cov = [[3, -1.3], [-1.3, 1.2]]\n",
    "X_n_1 = np.random.multivariate_normal([11, 3], cov, int(n_samples/2)).T\n",
    "X_n_2 = np.random.multivariate_normal([5, 2], cov, n_samples-int(n_samples/2)).T\n",
    "X_n = np.hstack([X_n_1, X_n_2])\n",
    "X_n.shape"
   ]
  },
  {
   "cell_type": "code",
   "execution_count": 4,
   "metadata": {},
   "outputs": [
    {
     "data": {
      "text/plain": "(3, 1000)"
     },
     "execution_count": 4,
     "metadata": {},
     "output_type": "execute_result"
    }
   ],
   "source": [
    "XY_p = np.vstack([X_p, np.ones_like(X_p[0])])\n",
    "XY_n = np.vstack([X_n, np.zeros_like(X_n[0])])\n",
    "XY_n.shape"
   ]
  },
  {
   "cell_type": "code",
   "execution_count": 5,
   "metadata": {},
   "outputs": [
    {
     "data": {
      "text/plain": "(1600, 3)"
     },
     "execution_count": 5,
     "metadata": {},
     "output_type": "execute_result"
    }
   ],
   "source": [
    "XY = np.hstack([XY_n, XY_p])\n",
    "data_XY = np.copy(XY).T\n",
    "np.random.shuffle(data_XY)\n",
    "data_train = data_XY[:1600]\n",
    "data_test = data_XY[:400]\n",
    "data_train.shape"
   ]
  },
  {
   "cell_type": "code",
   "execution_count": 6,
   "metadata": {},
   "outputs": [
    {
     "data": {
      "text/plain": "array([[12.77940847,  2.73332528,  0.        ],\n       [10.46533629,  4.83533753,  0.        ],\n       [ 3.9632519 ,  8.77608545,  1.        ],\n       ...,\n       [ 8.73667975,  4.65966592,  0.        ],\n       [ 5.0871848 ,  9.69116458,  1.        ],\n       [ 7.42984418,  9.65616161,  1.        ]])"
     },
     "execution_count": 6,
     "metadata": {},
     "output_type": "execute_result"
    }
   ],
   "source": [
    "data_test"
   ]
  },
  {
   "cell_type": "markdown",
   "metadata": {},
   "source": [
    "## Plot Boundary"
   ]
  },
  {
   "cell_type": "code",
   "execution_count": 7,
   "metadata": {},
   "outputs": [],
   "source": [
    "def sigmoid(x):\n",
    "        return 1 / (1 + np.exp(-x))\n",
    "\n",
    "def plot_boundary(X_n, X_p, params, ax=None):\n",
    "    \"\"\"\n",
    "    Plots the boundary of a sigmoid threshold\n",
    "    \"\"\"\n",
    "    if ax is None:\n",
    "        fig = plt.figure()\n",
    "        ax = fig.add_subplot(111)\n",
    "    ylim_ub = np.ceil(np.maximum(np.max(X_n[1]), np.max(X_p[1])))\n",
    "    ylim_lb = np.floor(np.minimum(np.min(X_n[1]), np.min(X_p[1])))\n",
    "    ax.set_ylim(ylim_lb, ylim_ub)\n",
    "    xlim_ub = np.ceil(np.maximum(np.max(X_n[0]), np.max(X_p[0])))\n",
    "    xlim_lb = np.floor(np.minimum(np.min(X_n[0]), np.min(X_p[0])))\n",
    "    ax.set_xlim(xlim_lb, xlim_ub)\n",
    "\n",
    "    mesh_lb = np.minimum(xlim_lb, ylim_lb) - 1\n",
    "    mesh_ub = np.maximum(xlim_ub, ylim_ub) + 1\n",
    "    tt_x = np.arange(mesh_lb, mesh_ub, 0.1)\n",
    "    tt_y = np.arange(mesh_lb, mesh_ub, 0.1)\n",
    "    tt_xx, tt_yy = np.meshgrid(tt_x, tt_y, sparse=False, indexing='ij')\n",
    "    tt_all = np.stack([tt_xx.flatten(), tt_yy.flatten()])\n",
    "    tt_zz = sigmoid(np.dot(tt_all.T, params))\n",
    "\n",
    "    plt.contourf(tt_x, tt_y, tt_zz.reshape(tt_xx.shape))\n",
    "\n",
    "    ax.scatter(X_p[0], X_p[1], color=\"pink\")\n",
    "    ax.scatter(X_n[0], X_n[1], color=\"blue\")"
   ]
  },
  {
   "cell_type": "markdown",
   "metadata": {
    "pycharm": {
     "name": "#%% md\n"
    }
   },
   "source": [
    "## Train"
   ]
  },
  {
   "cell_type": "code",
   "execution_count": 8,
   "metadata": {},
   "outputs": [],
   "source": [
    "from shubov_algorithms import logistic_regression\n",
    "model = logistic_regression.LogisticRegression(epochs=100)"
   ]
  },
  {
   "cell_type": "code",
   "metadata": {
    "pycharm": {
     "name": "#%%\n"
    }
   },
   "source": [
    "loss = model.learn(data_train[:,:2],data_train[:,2])"
   ],
   "execution_count": 9,
   "outputs": [
    {
     "name": "stderr",
     "output_type": "stream",
     "text": [
      "/Users/shubov/Projects/UniPassau/ml/notebooks/shubov_algorithms/logistic_regression.py:34: RuntimeWarning: overflow encountered in exp\n",
      "  return 1 / (1 + np.exp(-weighted_features))\n"
     ]
    }
   ]
  },
  {
   "cell_type": "code",
   "execution_count": 10,
   "metadata": {},
   "outputs": [
    {
     "data": {
      "text/plain": "[<matplotlib.lines.Line2D at 0x11e7f4040>]"
     },
     "execution_count": 10,
     "metadata": {},
     "output_type": "execute_result"
    },
    {
     "data": {
      "text/plain": "<Figure size 432x288 with 1 Axes>",
      "image/png": "[encoded data removed]"
     },
     "metadata": {
      "needs_background": "light"
     },
     "output_type": "display_data"
    }
   ],
   "source": [
    "plt.ylabel('Cost function')\n",
    "plt.xlabel('Epochs')\n",
    "plt.plot(loss)"
   ]
  },
  {
   "cell_type": "markdown",
   "metadata": {},
   "source": [
    "## Test"
   ]
  },
  {
   "cell_type": "code",
   "metadata": {
    "pycharm": {
     "name": "#%%\n"
    }
   },
   "source": [
    "y_predict = model.infer(data_test[:,:2])"
   ],
   "execution_count": 11,
   "outputs": []
  },
  {
   "cell_type": "code",
   "execution_count": 12,
   "metadata": {},
   "outputs": [
    {
     "data": {
      "text/plain": "<Figure size 432x288 with 1 Axes>",
      "image/png": "[encoded data removed]"
     },
     "metadata": {
      "needs_background": "light"
     },
     "output_type": "display_data"
    }
   ],
   "source": [
    "plot_boundary(X_n, X_p, model.weights)"
   ]
  },
  {
   "cell_type": "code",
   "execution_count": 12,
   "metadata": {},
   "outputs": [],
   "source": []
  }
 ],
 "metadata": {
  "kernelspec": {
   "display_name": "Python 3 (ipykernel)",
   "language": "python",
   "name": "python3"
  },
  "language_info": {
   "codemirror_mode": {
    "name": "ipython",
    "version": 3
   },
   "file_extension": ".py",
   "mimetype": "text/x-python",
   "name": "python",
   "nbconvert_exporter": "python",
   "pygments_lexer": "ipython3",
   "version": "3.9.6"
  }
 },
 "nbformat": 4,
 "nbformat_minor": 4
}